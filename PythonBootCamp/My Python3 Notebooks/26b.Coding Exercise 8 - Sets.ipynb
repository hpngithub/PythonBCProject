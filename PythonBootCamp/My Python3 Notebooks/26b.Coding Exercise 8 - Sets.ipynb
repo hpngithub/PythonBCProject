{
 "cells": [
  {
   "cell_type": "markdown",
   "id": "f1764399-4a88-4021-a61a-e95881b8c488",
   "metadata": {},
   "source": [
    "# Sets\n",
    "\n",
    "Write an expression that would turn the string `'Mississippi'`  into a set of unique letters.\n",
    "\n",
    "For example:\n",
    "\n",
    "`set('Parallel')` \n",
    "\n",
    "would return the set {'P', 'a', 'e', 'l', 'r'}\n",
    "\n",
    "You should only write one line of code for this. Do not assign a variable name to the set."
   ]
  },
  {
   "cell_type": "code",
   "execution_count": 1,
   "id": "22da91b3-7a7c-4d1b-8bdf-f76d9a2c8620",
   "metadata": {},
   "outputs": [
    {
     "data": {
      "text/plain": [
       "{'M', 'i', 'p', 's'}"
      ]
     },
     "execution_count": 1,
     "metadata": {},
     "output_type": "execute_result"
    }
   ],
   "source": [
    "set('Mississippi')"
   ]
  }
 ],
 "metadata": {
  "kernelspec": {
   "display_name": "Python 3 (ipykernel)",
   "language": "python",
   "name": "python3"
  },
  "language_info": {
   "codemirror_mode": {
    "name": "ipython",
    "version": 3
   },
   "file_extension": ".py",
   "mimetype": "text/x-python",
   "name": "python",
   "nbconvert_exporter": "python",
   "pygments_lexer": "ipython3",
   "version": "3.11.7"
  }
 },
 "nbformat": 4,
 "nbformat_minor": 5
}
