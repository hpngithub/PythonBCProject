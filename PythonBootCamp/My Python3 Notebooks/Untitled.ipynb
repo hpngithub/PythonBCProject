{
 "cells": [
  {
   "cell_type": "markdown",
   "id": "90aeb07a-588f-4c85-9a54-f26857a77fd4",
   "metadata": {},
   "source": [
    "# Basic Math Calculator"
   ]
  },
  {
   "cell_type": "code",
   "execution_count": 9,
   "id": "2d4f783f-55d9-4db0-9527-82e8bbe5a0cd",
   "metadata": {},
   "outputs": [
    {
     "data": {
      "text/plain": [
       "3"
      ]
     },
     "execution_count": 9,
     "metadata": {},
     "output_type": "execute_result"
    }
   ],
   "source": [
    "# Doing a Addition\n",
    "2+1"
   ]
  },
  {
   "cell_type": "code",
   "execution_count": 3,
   "id": "e4ab7faf-7325-4202-8e14-84638ea5ea80",
   "metadata": {},
   "outputs": [
    {
     "data": {
      "text/plain": [
       "1"
      ]
     },
     "execution_count": 3,
     "metadata": {},
     "output_type": "execute_result"
    }
   ],
   "source": [
    "# Doing a Subtractions\n",
    "2-1"
   ]
  },
  {
   "cell_type": "code",
   "execution_count": 4,
   "id": "4020a3e9-0989-431c-b250-91167f99d7e4",
   "metadata": {},
   "outputs": [
    {
     "data": {
      "text/plain": [
       "4"
      ]
     },
     "execution_count": 4,
     "metadata": {},
     "output_type": "execute_result"
    }
   ],
   "source": [
    "# Doing a Multiplication\n",
    "2*2"
   ]
  },
  {
   "cell_type": "code",
   "execution_count": 12,
   "id": "38911c28-314c-4e60-9385-6597bb638252",
   "metadata": {},
   "outputs": [
    {
     "data": {
      "text/plain": [
       "1.5"
      ]
     },
     "execution_count": 12,
     "metadata": {},
     "output_type": "execute_result"
    }
   ],
   "source": [
    "# Doing a Divisions\n",
    "3/2"
   ]
  },
  {
   "cell_type": "markdown",
   "id": "48b828c4-e6e7-42c6-ab98-527fceebc424",
   "metadata": {},
   "source": [
    "# Modulo or \"Mod\" Operator (Mathematical Operation)"
   ]
  },
  {
   "cell_type": "code",
   "execution_count": 14,
   "id": "206c384c-6689-4e2a-9cfe-77c19461c4e5",
   "metadata": {},
   "outputs": [],
   "source": [
    "# Basic Divisions"
   ]
  },
  {
   "cell_type": "code",
   "execution_count": 15,
   "id": "b52eec58-5e68-45d8-9791-d0d0f32c160a",
   "metadata": {},
   "outputs": [
    {
     "data": {
      "text/plain": [
       "1.75"
      ]
     },
     "execution_count": 15,
     "metadata": {},
     "output_type": "execute_result"
    }
   ],
   "source": [
    "7/4"
   ]
  },
  {
   "cell_type": "code",
   "execution_count": 17,
   "id": "d27d54aa-c8cf-4f3f-809e-8a5d0a51fc73",
   "metadata": {},
   "outputs": [
    {
     "data": {
      "text/plain": [
       "3"
      ]
     },
     "execution_count": 17,
     "metadata": {},
     "output_type": "execute_result"
    }
   ],
   "source": [
    "# For 7/4 Basic Divisions and showing only remainder. Example 7/4 is 4x1=4, Then 7-4=3\n",
    "7%4"
   ]
  },
  {
   "cell_type": "code",
   "execution_count": 18,
   "id": "a0caac3e-892b-4211-a346-25271f4d0d72",
   "metadata": {},
   "outputs": [
    {
     "data": {
      "text/plain": [
       "0"
      ]
     },
     "execution_count": 18,
     "metadata": {},
     "output_type": "execute_result"
    }
   ],
   "source": [
    "# More Example of Remainder when long division giving remainder 0. Example 50/5 is 5x10=50, Then 50-50=0.\n",
    "50 % 5"
   ]
  },
  {
   "cell_type": "code",
   "execution_count": 20,
   "id": "87350035-4b33-450a-bf99-45d7440becb9",
   "metadata": {},
   "outputs": [
    {
     "data": {
      "text/plain": [
       "1"
      ]
     },
     "execution_count": 20,
     "metadata": {},
     "output_type": "execute_result"
    }
   ],
   "source": [
    "# Verify Number is Odd or Even. \n",
    "## For Odd Number, always have remainder number, which is 1 \n",
    "## For Even Number, always there is no remainder number, which will be 0.\n",
    "23 % 2"
   ]
  },
  {
   "cell_type": "code",
   "execution_count": 21,
   "id": "e9c8db87-5ce5-46b2-990c-92801118208b",
   "metadata": {},
   "outputs": [
    {
     "data": {
      "text/plain": [
       "0"
      ]
     },
     "execution_count": 21,
     "metadata": {},
     "output_type": "execute_result"
    }
   ],
   "source": [
    "20 % 2"
   ]
  },
  {
   "cell_type": "code",
   "execution_count": 22,
   "id": "6de8b1c2-abf0-480c-b536-87c119817c0d",
   "metadata": {},
   "outputs": [
    {
     "data": {
      "text/plain": [
       "8"
      ]
     },
     "execution_count": 22,
     "metadata": {},
     "output_type": "execute_result"
    }
   ],
   "source": [
    "# Peform Exponentiation (Power of Number) Calculation. Example: 2 power 3 is 2x2x2=3\n",
    "2**3"
   ]
  },
  {
   "cell_type": "code",
   "execution_count": 23,
   "id": "15aedb24-b581-49ef-af02-0a6baffb8100",
   "metadata": {},
   "outputs": [
    {
     "data": {
      "text/plain": [
       "105"
      ]
     },
     "execution_count": 23,
     "metadata": {},
     "output_type": "execute_result"
    }
   ],
   "source": [
    "# Order of Operation Calculation. Where order is (), Exponentiation, Multiplicaiton/Division and +/-.\n",
    "# Example : 2+10x10+3 is 2+100+3, then it is 5+100=105\n",
    "2+10*10+3"
   ]
  },
  {
   "cell_type": "code",
   "execution_count": 24,
   "id": "e57e71b0-255c-4733-a64c-70fd80c5ab1d",
   "metadata": {},
   "outputs": [
    {
     "data": {
      "text/plain": [
       "156"
      ]
     },
     "execution_count": 24,
     "metadata": {},
     "output_type": "execute_result"
    }
   ],
   "source": [
    "# Doing with grouping math. Example: In 2+10x10+3, want to do 2+10 first, 10+3 secound and last is multiply, use ().\n",
    "(2+10)*(10+3) "
   ]
  }
 ],
 "metadata": {
  "kernelspec": {
   "display_name": "Python 3 (ipykernel)",
   "language": "python",
   "name": "python3"
  },
  "language_info": {
   "codemirror_mode": {
    "name": "ipython",
    "version": 3
   },
   "file_extension": ".py",
   "mimetype": "text/x-python",
   "name": "python",
   "nbconvert_exporter": "python",
   "pygments_lexer": "ipython3",
   "version": "3.11.7"
  }
 },
 "nbformat": 4,
 "nbformat_minor": 5
}
