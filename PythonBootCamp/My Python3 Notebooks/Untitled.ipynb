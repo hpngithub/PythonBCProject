{
 "cells": [
  {
   "cell_type": "markdown",
   "id": "90aeb07a-588f-4c85-9a54-f26857a77fd4",
   "metadata": {},
   "source": [
    "# Basic Math Calculator"
   ]
  },
  {
   "cell_type": "code",
   "execution_count": 9,
   "id": "2d4f783f-55d9-4db0-9527-82e8bbe5a0cd",
   "metadata": {},
   "outputs": [
    {
     "data": {
      "text/plain": [
       "3"
      ]
     },
     "execution_count": 9,
     "metadata": {},
     "output_type": "execute_result"
    }
   ],
   "source": [
    "# Doing a Addition\n",
    "2+1"
   ]
  },
  {
   "cell_type": "code",
   "execution_count": 3,
   "id": "e4ab7faf-7325-4202-8e14-84638ea5ea80",
   "metadata": {},
   "outputs": [
    {
     "data": {
      "text/plain": [
       "1"
      ]
     },
     "execution_count": 3,
     "metadata": {},
     "output_type": "execute_result"
    }
   ],
   "source": [
    "# Doing a Subtractions\n",
    "2-1"
   ]
  },
  {
   "cell_type": "code",
   "execution_count": 4,
   "id": "4020a3e9-0989-431c-b250-91167f99d7e4",
   "metadata": {},
   "outputs": [
    {
     "data": {
      "text/plain": [
       "4"
      ]
     },
     "execution_count": 4,
     "metadata": {},
     "output_type": "execute_result"
    }
   ],
   "source": [
    "# Doing a Multiplication\n",
    "2*2"
   ]
  },
  {
   "cell_type": "code",
   "execution_count": 12,
   "id": "38911c28-314c-4e60-9385-6597bb638252",
   "metadata": {},
   "outputs": [
    {
     "data": {
      "text/plain": [
       "1.5"
      ]
     },
     "execution_count": 12,
     "metadata": {},
     "output_type": "execute_result"
    }
   ],
   "source": [
    "# Doing a Divisions\n",
    "3/2"
   ]
  },
  {
   "cell_type": "markdown",
   "id": "48b828c4-e6e7-42c6-ab98-527fceebc424",
   "metadata": {},
   "source": [
    "# Modulo or \"Mod\" Operator (Mathematical Operation)"
   ]
  },
  {
   "cell_type": "code",
   "execution_count": 14,
   "id": "206c384c-6689-4e2a-9cfe-77c19461c4e5",
   "metadata": {},
   "outputs": [],
   "source": [
    "# Basic Divisions"
   ]
  },
  {
   "cell_type": "code",
   "execution_count": null,
   "id": "b52eec58-5e68-45d8-9791-d0d0f32c160a",
   "metadata": {},
   "outputs": [],
   "source": []
  }
 ],
 "metadata": {
  "kernelspec": {
   "display_name": "Python 3 (ipykernel)",
   "language": "python",
   "name": "python3"
  },
  "language_info": {
   "codemirror_mode": {
    "name": "ipython",
    "version": 3
   },
   "file_extension": ".py",
   "mimetype": "text/x-python",
   "name": "python",
   "nbconvert_exporter": "python",
   "pygments_lexer": "ipython3",
   "version": "3.11.7"
  }
 },
 "nbformat": 4,
 "nbformat_minor": 5
}
