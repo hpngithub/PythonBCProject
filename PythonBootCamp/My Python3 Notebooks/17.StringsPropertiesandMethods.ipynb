{
 "cells": [
  {
   "cell_type": "markdown",
   "id": "b1f0eda9-a80b-42f3-80d3-fbac02b3836c",
   "metadata": {},
   "source": [
    "# Immutablity"
   ]
  },
  {
   "cell_type": "markdown",
   "id": "d2657975-82bd-4af4-9100-45da9db50134",
   "metadata": {},
   "source": [
    "*Immutablity = It means none modifiable or changeable.*"
   ]
  },
  {
   "cell_type": "code",
   "execution_count": 2,
   "id": "142d3fb3-b0a3-4693-a208-73cac58a44ba",
   "metadata": {},
   "outputs": [],
   "source": [
    "# Example of String Immutablity\n",
    "# Setup Strings\n",
    "name = \"Sam\""
   ]
  },
  {
   "cell_type": "code",
   "execution_count": 3,
   "id": "c96caaac-42a1-4968-a174-e39093a2b395",
   "metadata": {},
   "outputs": [
    {
     "data": {
      "text/plain": [
       "'Sam'"
      ]
     },
     "execution_count": 3,
     "metadata": {},
     "output_type": "execute_result"
    }
   ],
   "source": [
    "# Test Strings\n",
    "name"
   ]
  },
  {
   "cell_type": "code",
   "execution_count": null,
   "id": "9f5d54d8-2159-4233-b0e9-8b5070d474bc",
   "metadata": {},
   "outputs": [],
   "source": [
    "# Changing letter 'S"
   ]
  }
 ],
 "metadata": {
  "kernelspec": {
   "display_name": "Python 3 (ipykernel)",
   "language": "python",
   "name": "python3"
  },
  "language_info": {
   "codemirror_mode": {
    "name": "ipython",
    "version": 3
   },
   "file_extension": ".py",
   "mimetype": "text/x-python",
   "name": "python",
   "nbconvert_exporter": "python",
   "pygments_lexer": "ipython3",
   "version": "3.11.7"
  }
 },
 "nbformat": 4,
 "nbformat_minor": 5
}
