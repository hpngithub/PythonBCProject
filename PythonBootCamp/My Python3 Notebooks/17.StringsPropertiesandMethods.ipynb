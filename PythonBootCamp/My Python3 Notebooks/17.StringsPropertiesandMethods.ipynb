{
 "cells": [
  {
   "cell_type": "markdown",
   "id": "b1f0eda9-a80b-42f3-80d3-fbac02b3836c",
   "metadata": {},
   "source": [
    "# Immutablity"
   ]
  },
  {
   "cell_type": "markdown",
   "id": "d2657975-82bd-4af4-9100-45da9db50134",
   "metadata": {},
   "source": [
    "*Immutablity = It means none modifiable or changeable.*"
   ]
  },
  {
   "cell_type": "code",
   "execution_count": 2,
   "id": "142d3fb3-b0a3-4693-a208-73cac58a44ba",
   "metadata": {},
   "outputs": [],
   "source": [
    "# Example of String Immutablity\n",
    "# Setup Strings\n",
    "name = \"Sam\""
   ]
  },
  {
   "cell_type": "code",
   "execution_count": 3,
   "id": "c96caaac-42a1-4968-a174-e39093a2b395",
   "metadata": {},
   "outputs": [
    {
     "data": {
      "text/plain": [
       "'Sam'"
      ]
     },
     "execution_count": 3,
     "metadata": {},
     "output_type": "execute_result"
    }
   ],
   "source": [
    "# Test Strings\n",
    "name"
   ]
  },
  {
   "cell_type": "code",
   "execution_count": 4,
   "id": "9f5d54d8-2159-4233-b0e9-8b5070d474bc",
   "metadata": {},
   "outputs": [
    {
     "ename": "TypeError",
     "evalue": "'str' object does not support item assignment",
     "output_type": "error",
     "traceback": [
      "\u001b[0;31m---------------------------------------------------------------------------\u001b[0m",
      "\u001b[0;31mTypeError\u001b[0m                                 Traceback (most recent call last)",
      "Cell \u001b[0;32mIn[4], line 2\u001b[0m\n\u001b[1;32m      1\u001b[0m \u001b[38;5;66;03m# Changing letter 'S' to 'P', showing it error showing Immutablity and cannot change.\u001b[39;00m\n\u001b[0;32m----> 2\u001b[0m name [\u001b[38;5;241m0\u001b[39m] \u001b[38;5;241m=\u001b[39m \u001b[38;5;124m'\u001b[39m\u001b[38;5;124mp\u001b[39m\u001b[38;5;124m'\u001b[39m\n",
      "\u001b[0;31mTypeError\u001b[0m: 'str' object does not support item assignment"
     ]
    }
   ],
   "source": [
    "# Changing letter 'S' to 'P', showing it error which indicate it is Immutablity and cannot change.\n",
    "name [0] = 'p'"
   ]
  },
  {
   "cell_type": "markdown",
   "id": "34815f0c-41e2-4d3e-a5dc-fac2de718a37",
   "metadata": {},
   "source": [
    "# String Variable Concatenation."
   ]
  },
  {
   "cell_type": "code",
   "execution_count": 5,
   "id": "3161f36b-ddd9-435d-81a0-3308b3b57bdf",
   "metadata": {},
   "outputs": [
    {
     "data": {
      "text/plain": [
       "'Sam'"
      ]
     },
     "execution_count": 5,
     "metadata": {},
     "output_type": "execute_result"
    }
   ],
   "source": [
    "# Check current Strings\n",
    "name"
   ]
  },
  {
   "cell_type": "code",
   "execution_count": 6,
   "id": "89e7c84b-ae59-4141-8d1c-38376e31e37e",
   "metadata": {},
   "outputs": [
    {
     "data": {
      "text/plain": [
       "'am'"
      ]
     },
     "execution_count": 6,
     "metadata": {},
     "output_type": "execute_result"
    }
   ],
   "source": [
    "# Now lets do Slice Notation and pick letter 'am' from string\n",
    "name[1:]"
   ]
  },
  {
   "cell_type": "code",
   "execution_count": 7,
   "id": "5bc9f09f-2adc-48fc-972d-5f6a287aaf56",
   "metadata": {},
   "outputs": [],
   "source": [
    "# Assigned slice to string variable. In this case slice is \"name[1:]\" and string variable is \"last_letters\".\n",
    "last_letters = name[1:]"
   ]
  },
  {
   "cell_type": "code",
   "execution_count": 8,
   "id": "27a4d347-717f-43d6-b2d4-dcf24396eded",
   "metadata": {},
   "outputs": [
    {
     "data": {
      "text/plain": [
       "'am'"
      ]
     },
     "execution_count": 8,
     "metadata": {},
     "output_type": "execute_result"
    }
   ],
   "source": [
    "# Test the last_letters variable.\n",
    "last_letters"
   ]
  },
  {
   "cell_type": "code",
   "execution_count": 9,
   "id": "ec08f316-dfe6-473a-8c94-bd7b5cc5cc28",
   "metadata": {},
   "outputs": [
    {
     "data": {
      "text/plain": [
       "'Pam'"
      ]
     },
     "execution_count": 9,
     "metadata": {},
     "output_type": "execute_result"
    }
   ],
   "source": [
    "# Now concatenate letter 'P' to 'last letters'. Another word joing the letter 'P' with letters 'am'\n",
    "'P'+last_letters"
   ]
  },
  {
   "cell_type": "markdown",
   "id": "da0ddc63-7cf3-4571-92a2-3c7d80b56540",
   "metadata": {},
   "source": [
    "### Example 1"
   ]
  },
  {
   "cell_type": "code",
   "execution_count": 19,
   "id": "e12ce7aa-de9d-4959-aaf0-6780b7154e42",
   "metadata": {},
   "outputs": [],
   "source": [
    "# Example 1 : A. Create string\n",
    "x = 'Hello World'"
   ]
  },
  {
   "cell_type": "code",
   "execution_count": 21,
   "id": "b1e4dcd3-7905-45dc-8a28-d42aaf2dbc1d",
   "metadata": {},
   "outputs": [
    {
     "data": {
      "text/plain": [
       "'Hello World it is beautiful outside!'"
      ]
     },
     "execution_count": 21,
     "metadata": {},
     "output_type": "execute_result"
    }
   ],
   "source": [
    "# Example 1 : B. Create Concatenate and note there is space between quote and letter it as space reqired after word \"World\".\n",
    "x + \" it is beautiful outside!\""
   ]
  },
  {
   "cell_type": "code",
   "execution_count": 23,
   "id": "b55c5b2c-5360-4742-b115-3da422654aed",
   "metadata": {},
   "outputs": [],
   "source": [
    "# Example 1 : C. Assign Concatenate to exsiting string 'x'\n",
    "x = x + \" it is beautiful outside!\""
   ]
  },
  {
   "cell_type": "code",
   "execution_count": 24,
   "id": "1fc9d463-70d0-424e-a5fe-c20c11408cac",
   "metadata": {},
   "outputs": [
    {
     "data": {
      "text/plain": [
       "'Hello World it is beautiful outside!'"
      ]
     },
     "execution_count": 24,
     "metadata": {},
     "output_type": "execute_result"
    }
   ],
   "source": [
    "# Example 1 : D. Result\n",
    "x"
   ]
  },
  {
   "cell_type": "code",
   "execution_count": 27,
   "id": "55b79e3f-d8be-4cfe-9ecf-dca0eb2720c3",
   "metadata": {},
   "outputs": [
    {
     "data": {
      "text/plain": [
       "'Hello World it is beautiful outside! it is beautiful outside!'"
      ]
     },
     "execution_count": 27,
     "metadata": {},
     "output_type": "execute_result"
    }
   ],
   "source": [
    "# Example 1 : E. Run the \"Example 1 : B\" again for add multiple same quote line.\n",
    "x + \" it is beautiful outside!\""
   ]
  },
  {
   "cell_type": "markdown",
   "id": "985cebf7-060b-4f88-baac-88a33567ad95",
   "metadata": {},
   "source": [
    "### Example 2"
   ]
  },
  {
   "cell_type": "markdown",
   "id": "cb6e6d93-273f-4531-bba4-1fff42ddc2f4",
   "metadata": {},
   "source": [
    "*Note : Above 'Example 1' was addition '+' and below is going to be multiplicaton.*"
   ]
  },
  {
   "cell_type": "code",
   "execution_count": 28,
   "id": "f6155327-9dda-4f94-a5a6-19b66a50ff0c",
   "metadata": {},
   "outputs": [],
   "source": [
    "# Example 2 : Assigne the string 'letter' with 'z'\n",
    "letter = 'z'"
   ]
  },
  {
   "cell_type": "code",
   "execution_count": 30,
   "id": "37c5d960-16cd-4473-b4c7-bb477ee99af6",
   "metadata": {},
   "outputs": [
    {
     "data": {
      "text/plain": [
       "'z'"
      ]
     },
     "execution_count": 30,
     "metadata": {},
     "output_type": "execute_result"
    }
   ],
   "source": [
    "# Example 2 : String test\n",
    "letter"
   ]
  },
  {
   "cell_type": "code",
   "execution_count": 31,
   "id": "0cef306b-c76d-484d-a9d7-45ff3980460a",
   "metadata": {},
   "outputs": [
    {
     "data": {
      "text/plain": [
       "'zzzzzzzzzz'"
      ]
     },
     "execution_count": 31,
     "metadata": {},
     "output_type": "execute_result"
    }
   ],
   "source": [
    "# Example 2 : Create 10 'z' using multiplication\n",
    "letter * 10"
   ]
  },
  {
   "cell_type": "markdown",
   "id": "7a34ae7e-d6dc-45ee-8b95-e0eb8300d21c",
   "metadata": {},
   "source": [
    "# String to String Concatenation."
   ]
  },
  {
   "cell_type": "markdown",
   "id": "598fcf34-ae43-46ac-a1f6-c0fbb0a5fe08",
   "metadata": {},
   "source": [
    "*Note : String to String Concatenation, you cannot do addition math*"
   ]
  },
  {
   "cell_type": "code",
   "execution_count": 33,
   "id": "030f3cd3-a6e9-457b-837c-16ebe9313a8c",
   "metadata": {},
   "outputs": [
    {
     "data": {
      "text/plain": [
       "5"
      ]
     },
     "execution_count": 33,
     "metadata": {},
     "output_type": "execute_result"
    }
   ],
   "source": [
    "# For reference normal addition\n",
    "2 + 3"
   ]
  },
  {
   "cell_type": "code",
   "execution_count": 34,
   "id": "caf65d18-33de-45f5-b70c-e1da5a4d0b2f",
   "metadata": {},
   "outputs": [
    {
     "data": {
      "text/plain": [
       "'23'"
      ]
     },
     "execution_count": 34,
     "metadata": {},
     "output_type": "execute_result"
    }
   ],
   "source": [
    "# Example : String to String concatenation. Note: It give unexpected result as it doesn't peform addition (Coding).\n",
    "'2' + '3'"
   ]
  },
  {
   "cell_type": "markdown",
   "id": "f47a3b18-9ca1-425f-9560-29e40e0b1588",
   "metadata": {},
   "source": [
    "# In-Build Methods"
   ]
  },
  {
   "cell_type": "code",
   "execution_count": 36,
   "id": "e93e0b96-a96b-4117-9c0d-4ff857ba13c8",
   "metadata": {},
   "outputs": [],
   "source": [
    "# Create the strings\n",
    "x = 'Hello World'"
   ]
  },
  {
   "cell_type": "code",
   "execution_count": 37,
   "id": "362110e5-6466-42b5-8245-fd5ff01800a8",
   "metadata": {},
   "outputs": [
    {
     "data": {
      "text/plain": [
       "'Hello World'"
      ]
     },
     "execution_count": 37,
     "metadata": {},
     "output_type": "execute_result"
    }
   ],
   "source": [
    "# Check the strings\n",
    "x"
   ]
  },
  {
   "cell_type": "markdown",
   "id": "41b2848e-0a7a-4808-943a-7d3dfc67fa24",
   "metadata": {},
   "source": [
    "### Upper Method"
   ]
  },
  {
   "cell_type": "markdown",
   "id": "71ba49c2-f5cc-470c-b6fe-eddba828ce70",
   "metadata": {},
   "source": [
    "*Note : Upper Method make every letter capitalized.*"
   ]
  },
  {
   "cell_type": "code",
   "execution_count": 38,
   "id": "46d20df3-51f5-4388-9e1a-0a045073a6d1",
   "metadata": {},
   "outputs": [
    {
     "data": {
      "text/plain": [
       "'Hello World'"
      ]
     },
     "execution_count": 38,
     "metadata": {},
     "output_type": "execute_result"
    }
   ],
   "source": [
    "# Check the strings\n",
    "x"
   ]
  },
  {
   "cell_type": "code",
   "execution_count": 39,
   "id": "0857667a-af9e-458e-bb11-1626cc21a634",
   "metadata": {},
   "outputs": [
    {
     "data": {
      "text/plain": [
       "'HELLO WORLD'"
      ]
     },
     "execution_count": 39,
     "metadata": {},
     "output_type": "execute_result"
    }
   ],
   "source": [
    "# Example of Upper Method : Note to use upper use below proccess and doesn't change the 'x' variable\n",
    "# Proccess: Type string variable 'x' as example, '.' period without quote, press tab in keyboard, select upper from list and use ().\n",
    "x.upper()"
   ]
  },
  {
   "cell_type": "code",
   "execution_count": 40,
   "id": "31242c1c-a37f-47a3-a7e6-2ce676edf21d",
   "metadata": {},
   "outputs": [],
   "source": [
    "# Example of upper Method Assigned to variable : Note just add the 'x =' with 'x.upper().\n",
    "x = x.upper()"
   ]
  },
  {
   "cell_type": "code",
   "execution_count": 41,
   "id": "d62a6ffe-e9a1-46ae-b41f-2ac7e4bdddc1",
   "metadata": {},
   "outputs": [
    {
     "data": {
      "text/plain": [
       "'HELLO WORLD'"
      ]
     },
     "execution_count": 41,
     "metadata": {},
     "output_type": "execute_result"
    }
   ],
   "source": [
    "# Check the strings change to upper Method.\n",
    "x"
   ]
  },
  {
   "cell_type": "code",
   "execution_count": 42,
   "id": "b7688e42-9e78-4cb7-8bc1-06a7b062bdfe",
   "metadata": {},
   "outputs": [
    {
     "data": {
      "text/plain": [
       "<function str.upper()>"
      ]
     },
     "execution_count": 42,
     "metadata": {},
     "output_type": "execute_result"
    }
   ],
   "source": [
    "# Example of Upper Error <funciton str.upper>, stating didn't use () or excute.\n",
    "x.upper"
   ]
  },
  {
   "cell_type": "markdown",
   "id": "a708425d-0356-4920-87d7-6048d2d2bfd3",
   "metadata": {},
   "source": [
    "### Lower Method"
   ]
  },
  {
   "cell_type": "markdown",
   "id": "c4db0523-361b-4cb6-af54-63288e97cab0",
   "metadata": {},
   "source": [
    "*Note : Lower Method make every letter lowercase.*"
   ]
  },
  {
   "cell_type": "code",
   "execution_count": 43,
   "id": "0d90ef12-6e43-4026-ba09-56687b0f1eee",
   "metadata": {},
   "outputs": [],
   "source": [
    "# Create the strings\n",
    "x = 'Hello World'"
   ]
  },
  {
   "cell_type": "code",
   "execution_count": 44,
   "id": "115aec30-dca4-41d9-bb1d-563a79e855de",
   "metadata": {},
   "outputs": [
    {
     "data": {
      "text/plain": [
       "'Hello World'"
      ]
     },
     "execution_count": 44,
     "metadata": {},
     "output_type": "execute_result"
    }
   ],
   "source": [
    "# Check the strings\n",
    "x"
   ]
  },
  {
   "cell_type": "code",
   "execution_count": 46,
   "id": "8d6b40ca-b7de-4c08-b9fc-8bc72111516a",
   "metadata": {},
   "outputs": [
    {
     "data": {
      "text/plain": [
       "'hello world'"
      ]
     },
     "execution_count": 46,
     "metadata": {},
     "output_type": "execute_result"
    }
   ],
   "source": [
    "# Example of Upper Method : Note to use upper use below proccess and doesn't change the 'x' variable\n",
    "# Proccess: Type string variable 'x' as example, '.' period without quote, press tab in keyboard, select lower from list and use ().\n",
    "x.lower()"
   ]
  },
  {
   "cell_type": "markdown",
   "id": "c933acdd-ad7f-4282-b9f8-d0046010682c",
   "metadata": {},
   "source": [
    "### Split Method"
   ]
  },
  {
   "cell_type": "markdown",
   "id": "dbca3f20-1630-4700-961b-bfdb006797f7",
   "metadata": {},
   "source": [
    "*Note : Split Method make every word split on white space or on specific charactors. Which allow you to create list.*"
   ]
  },
  {
   "cell_type": "markdown",
   "id": "43a27b69-5108-48bc-94f9-9979f44f4299",
   "metadata": {},
   "source": [
    "#### Split by Empty space"
   ]
  },
  {
   "cell_type": "code",
   "execution_count": 47,
   "id": "b6d1a3ef-af75-4b4e-8d39-86d91677dc90",
   "metadata": {},
   "outputs": [
    {
     "data": {
      "text/plain": [
       "'Hello World'"
      ]
     },
     "execution_count": 47,
     "metadata": {},
     "output_type": "execute_result"
    }
   ],
   "source": [
    "# Check the strings\n",
    "x"
   ]
  },
  {
   "cell_type": "code",
   "execution_count": 48,
   "id": "f8200249-e658-4a6d-9ebf-fab8fcc6ba30",
   "metadata": {},
   "outputs": [
    {
     "data": {
      "text/plain": [
       "['Hello', 'World']"
      ]
     },
     "execution_count": 48,
     "metadata": {},
     "output_type": "execute_result"
    }
   ],
   "source": [
    "# Example : Split by space. Note : It will remove space, replace  with ',' comma and put word in quote.\n",
    "x.split()"
   ]
  },
  {
   "cell_type": "markdown",
   "id": "04d7803c-7fa8-4203-a816-e3fbfc7130d1",
   "metadata": {},
   "source": [
    "#### Split by Charactor"
   ]
  },
  {
   "cell_type": "code",
   "execution_count": 49,
   "id": "4129d1f8-88e9-45db-8467-c2c97f71190f",
   "metadata": {},
   "outputs": [],
   "source": [
    "# Create the strings\n",
    "x = 'This is a strings'"
   ]
  },
  {
   "cell_type": "code",
   "execution_count": 50,
   "id": "eaacd733-87dd-438a-bb79-18ade7616b8e",
   "metadata": {},
   "outputs": [
    {
     "data": {
      "text/plain": [
       "'This is a strings'"
      ]
     },
     "execution_count": 50,
     "metadata": {},
     "output_type": "execute_result"
    }
   ],
   "source": [
    "# Check the strings\n",
    "x"
   ]
  },
  {
   "cell_type": "code",
   "execution_count": 51,
   "id": "dffd999a-6189-4051-b196-a05f9a38de30",
   "metadata": {},
   "outputs": [
    {
     "data": {
      "text/plain": [
       "['This', 'is', 'a', 'strings']"
      ]
     },
     "execution_count": 51,
     "metadata": {},
     "output_type": "execute_result"
    }
   ],
   "source": [
    "# Example As References: Split by space. Note : It will remove space, replace  with ',' comma and put word in quote.\n",
    "x.split()"
   ]
  },
  {
   "cell_type": "code",
   "execution_count": 53,
   "id": "c9c04807-77a6-4462-aa23-509da4f79dbc",
   "metadata": {},
   "outputs": [
    {
     "data": {
      "text/plain": [
       "['Th', 's ', 's a str', 'ngs']"
      ]
     },
     "execution_count": 53,
     "metadata": {},
     "output_type": "execute_result"
    }
   ],
   "source": [
    "# Example : Split by Charactor. Note : It will remove charactor, replace  with ',' comma and put word with space in quote. \n",
    "# Note: That space is charactor.\n",
    "x.split('i')"
   ]
  }
 ],
 "metadata": {
  "kernelspec": {
   "display_name": "Python 3 (ipykernel)",
   "language": "python",
   "name": "python3"
  },
  "language_info": {
   "codemirror_mode": {
    "name": "ipython",
    "version": 3
   },
   "file_extension": ".py",
   "mimetype": "text/x-python",
   "name": "python",
   "nbconvert_exporter": "python",
   "pygments_lexer": "ipython3",
   "version": "3.11.7"
  }
 },
 "nbformat": 4,
 "nbformat_minor": 5
}
