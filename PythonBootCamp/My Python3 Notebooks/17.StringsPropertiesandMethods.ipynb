{
 "cells": [
  {
   "cell_type": "markdown",
   "id": "b1f0eda9-a80b-42f3-80d3-fbac02b3836c",
   "metadata": {},
   "source": [
    "# Immutablity"
   ]
  },
  {
   "cell_type": "markdown",
   "id": "d2657975-82bd-4af4-9100-45da9db50134",
   "metadata": {},
   "source": [
    "*Immutablity = It means none modifiable or changeable.*"
   ]
  },
  {
   "cell_type": "code",
   "execution_count": 2,
   "id": "142d3fb3-b0a3-4693-a208-73cac58a44ba",
   "metadata": {},
   "outputs": [],
   "source": [
    "# Example of String Immutablity\n",
    "# Setup Strings\n",
    "name = \"Sam\""
   ]
  },
  {
   "cell_type": "code",
   "execution_count": 3,
   "id": "c96caaac-42a1-4968-a174-e39093a2b395",
   "metadata": {},
   "outputs": [
    {
     "data": {
      "text/plain": [
       "'Sam'"
      ]
     },
     "execution_count": 3,
     "metadata": {},
     "output_type": "execute_result"
    }
   ],
   "source": [
    "# Test Strings\n",
    "name"
   ]
  },
  {
   "cell_type": "code",
   "execution_count": 4,
   "id": "9f5d54d8-2159-4233-b0e9-8b5070d474bc",
   "metadata": {},
   "outputs": [
    {
     "ename": "TypeError",
     "evalue": "'str' object does not support item assignment",
     "output_type": "error",
     "traceback": [
      "\u001b[0;31m---------------------------------------------------------------------------\u001b[0m",
      "\u001b[0;31mTypeError\u001b[0m                                 Traceback (most recent call last)",
      "Cell \u001b[0;32mIn[4], line 2\u001b[0m\n\u001b[1;32m      1\u001b[0m \u001b[38;5;66;03m# Changing letter 'S' to 'P', showing it error showing Immutablity and cannot change.\u001b[39;00m\n\u001b[0;32m----> 2\u001b[0m name [\u001b[38;5;241m0\u001b[39m] \u001b[38;5;241m=\u001b[39m \u001b[38;5;124m'\u001b[39m\u001b[38;5;124mp\u001b[39m\u001b[38;5;124m'\u001b[39m\n",
      "\u001b[0;31mTypeError\u001b[0m: 'str' object does not support item assignment"
     ]
    }
   ],
   "source": [
    "# Changing letter 'S' to 'P', showing it error which indicate it is Immutablity and cannot change.\n",
    "name [0] = 'p'"
   ]
  },
  {
   "cell_type": "markdown",
   "id": "34815f0c-41e2-4d3e-a5dc-fac2de718a37",
   "metadata": {},
   "source": [
    "# String Concatenation."
   ]
  },
  {
   "cell_type": "code",
   "execution_count": 5,
   "id": "3161f36b-ddd9-435d-81a0-3308b3b57bdf",
   "metadata": {},
   "outputs": [
    {
     "data": {
      "text/plain": [
       "'Sam'"
      ]
     },
     "execution_count": 5,
     "metadata": {},
     "output_type": "execute_result"
    }
   ],
   "source": [
    "# Check current Strings\n",
    "name"
   ]
  },
  {
   "cell_type": "code",
   "execution_count": 6,
   "id": "89e7c84b-ae59-4141-8d1c-38376e31e37e",
   "metadata": {},
   "outputs": [
    {
     "data": {
      "text/plain": [
       "'am'"
      ]
     },
     "execution_count": 6,
     "metadata": {},
     "output_type": "execute_result"
    }
   ],
   "source": [
    "# Now lets do Slice Notation and pick letter 'am' from string\n",
    "name[1:]"
   ]
  },
  {
   "cell_type": "code",
   "execution_count": 7,
   "id": "5bc9f09f-2adc-48fc-972d-5f6a287aaf56",
   "metadata": {},
   "outputs": [],
   "source": [
    "# Assigned slice to string variable. In this case slice is \"name[1:]\" and string variable is \"last_letters\".\n",
    "last_letters = name[1:]"
   ]
  },
  {
   "cell_type": "code",
   "execution_count": 8,
   "id": "27a4d347-717f-43d6-b2d4-dcf24396eded",
   "metadata": {},
   "outputs": [
    {
     "data": {
      "text/plain": [
       "'am'"
      ]
     },
     "execution_count": 8,
     "metadata": {},
     "output_type": "execute_result"
    }
   ],
   "source": [
    "# Test the last_letters variable.\n",
    "last_letters"
   ]
  },
  {
   "cell_type": "code",
   "execution_count": 9,
   "id": "ec08f316-dfe6-473a-8c94-bd7b5cc5cc28",
   "metadata": {},
   "outputs": [
    {
     "data": {
      "text/plain": [
       "'Pam'"
      ]
     },
     "execution_count": 9,
     "metadata": {},
     "output_type": "execute_result"
    }
   ],
   "source": [
    "# Now concatenate letter 'P' to 'last letters'. Another word joing the letter 'P' with letters 'am'\n",
    "'P'+last_letters"
   ]
  },
  {
   "cell_type": "code",
   "execution_count": null,
   "id": "e12ce7aa-de9d-4959-aaf0-6780b7154e42",
   "metadata": {},
   "outputs": [],
   "source": []
  }
 ],
 "metadata": {
  "kernelspec": {
   "display_name": "Python 3 (ipykernel)",
   "language": "python",
   "name": "python3"
  },
  "language_info": {
   "codemirror_mode": {
    "name": "ipython",
    "version": 3
   },
   "file_extension": ".py",
   "mimetype": "text/x-python",
   "name": "python",
   "nbconvert_exporter": "python",
   "pygments_lexer": "ipython3",
   "version": "3.11.7"
  }
 },
 "nbformat": 4,
 "nbformat_minor": 5
}
