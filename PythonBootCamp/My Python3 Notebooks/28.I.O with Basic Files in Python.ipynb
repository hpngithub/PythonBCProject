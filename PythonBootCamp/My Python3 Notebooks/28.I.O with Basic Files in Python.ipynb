{
 "cells": [
  {
   "cell_type": "markdown",
   "id": "5e565268-c7d2-44e4-9942-3a42331924ed",
   "metadata": {},
   "source": [
    "### Jupyter Magic Functionality"
   ]
  },
  {
   "cell_type": "code",
   "execution_count": null,
   "id": "d831c99b-13ab-46e3-9d7a-dfadbd39fa28",
   "metadata": {},
   "outputs": [],
   "source": [
    "# Using Magic comamnds to create the File\n",
    "# Note: Only work on Jupyter Notebook and it is '%%\" + 'tab' in keyboad and choosing '%%writefile' wiht filename."
   ]
  },
  {
   "cell_type": "markdown",
   "id": "58764ba5-a7bc-4a20-90c3-a8f85405e86f",
   "metadata": {},
   "source": [
    "### Create a File String"
   ]
  },
  {
   "cell_type": "code",
   "execution_count": null,
   "id": "739f075a-3565-45d5-b843-01c894049e46",
   "metadata": {},
   "outputs": [],
   "source": [
    "# Common Mistake Error : Writing Wrong Name or Saving the File"
   ]
  },
  {
   "cell_type": "markdown",
   "id": "57410c57-2e51-4b68-938d-5c8017582d9c",
   "metadata": {},
   "source": [
    "### Print Working Director (pwd)"
   ]
  },
  {
   "cell_type": "code",
   "execution_count": null,
   "id": "db33cb6d-3892-4738-acb4-166bc21eb156",
   "metadata": {},
   "outputs": [],
   "source": [
    "# Use 'pwd' function to see location of Jupyter Notebook directory where everthing getting saved.\n",
    "# Note : Result shold show you the path and folder name."
   ]
  },
  {
   "cell_type": "markdown",
   "id": "7776006d-6cb4-4a6e-a531-d8c194be68b0",
   "metadata": {},
   "source": [
    "### Read"
   ]
  },
  {
   "cell_type": "code",
   "execution_count": null,
   "id": "966092a4-880c-409f-967f-b26ac133fd02",
   "metadata": {},
   "outputs": [],
   "source": []
  },
  {
   "cell_type": "markdown",
   "id": "ed543e08-dfd4-4e5a-b1c7-f7fafb0b1ccc",
   "metadata": {},
   "source": [
    "### File Locations\n",
    "If you want to open files at another location on your computer, simply pass in the entire file path.\n",
    "\n",
    "For Windows you need to use double \\ so python doesn't treat the second \\ as an escape character, a file path is in the form:\n",
    "\n",
    "    myfile = open(\"C:\\\\Users\\\\YourUserName\\\\Home\\\\Folder\\\\myfile.txt\")\n",
    "\n",
    "For MacOS and Linux you use slashes in the opposite direction:\n",
    "\n",
    "    myfile = open(\"/Users/YouUserName/Folder/myfile.txt\")"
   ]
  },
  {
   "cell_type": "code",
   "execution_count": null,
   "id": "22a37f8b-d6a2-42fd-b7c5-d16e0ed426ab",
   "metadata": {},
   "outputs": [],
   "source": []
  },
  {
   "cell_type": "markdown",
   "id": "6da44c3d-d3d9-4f63-81a0-cb1fbf9f2b51",
   "metadata": {},
   "source": [
    "### Reading, Writing, Appending Modes\n",
    "\n",
    "* __mode='r'__ is read only\n",
    "* __mode='w'__ is write only (will overwrite files or create new!)\n",
    "* __mode='a'__ is append only (will add on to files)\n",
    "* __mode='r+'__ is reading and writing\n",
    "* __mode='w+'__ is writing and reading (Overwrites existing files or creates a new file!)"
   ]
  },
  {
   "cell_type": "code",
   "execution_count": null,
   "id": "fda0fce0-19ea-4621-8604-365dd07b04b0",
   "metadata": {},
   "outputs": [],
   "source": []
  }
 ],
 "metadata": {
  "kernelspec": {
   "display_name": "Python 3 (ipykernel)",
   "language": "python",
   "name": "python3"
  },
  "language_info": {
   "codemirror_mode": {
    "name": "ipython",
    "version": 3
   },
   "file_extension": ".py",
   "mimetype": "text/x-python",
   "name": "python",
   "nbconvert_exporter": "python",
   "pygments_lexer": "ipython3",
   "version": "3.11.7"
  }
 },
 "nbformat": 4,
 "nbformat_minor": 5
}
