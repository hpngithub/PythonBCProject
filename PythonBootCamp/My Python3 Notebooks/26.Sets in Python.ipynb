{
 "cells": [
  {
   "cell_type": "markdown",
   "id": "3ff172fa-9610-44b2-b0e8-974cf77a7a53",
   "metadata": {},
   "source": [
    "### Set Creation Only"
   ]
  },
  {
   "cell_type": "code",
   "execution_count": 1,
   "id": "f29a133a-6d85-47c0-a060-6850389ec8dd",
   "metadata": {},
   "outputs": [],
   "source": [
    "# Create Set\n",
    "myset = set ()"
   ]
  },
  {
   "cell_type": "code",
   "execution_count": 2,
   "id": "ce54591c-733b-443a-ba66-fa0bc04fb3ef",
   "metadata": {},
   "outputs": [
    {
     "data": {
      "text/plain": [
       "set()"
      ]
     },
     "execution_count": 2,
     "metadata": {},
     "output_type": "execute_result"
    }
   ],
   "source": [
    "# Check the created Set\n",
    "myset"
   ]
  },
  {
   "cell_type": "markdown",
   "id": "825d8fb3-ca04-4ab5-ad93-adcd7d1a0185",
   "metadata": {},
   "source": [
    "### Filling the Empty Set"
   ]
  },
  {
   "cell_type": "code",
   "execution_count": null,
   "id": "6fc7e7b6-5312-468b-b23d-c3f17b40e685",
   "metadata": {},
   "outputs": [],
   "source": [
    "# Check the set again, Where () mean it is empty.\n",
    "myset"
   ]
  }
 ],
 "metadata": {
  "kernelspec": {
   "display_name": "Python 3 (ipykernel)",
   "language": "python",
   "name": "python3"
  },
  "language_info": {
   "codemirror_mode": {
    "name": "ipython",
    "version": 3
   },
   "file_extension": ".py",
   "mimetype": "text/x-python",
   "name": "python",
   "nbconvert_exporter": "python",
   "pygments_lexer": "ipython3",
   "version": "3.11.7"
  }
 },
 "nbformat": 4,
 "nbformat_minor": 5
}
