{
 "cells": [
  {
   "cell_type": "markdown",
   "id": "9a226588-7983-443c-a290-b2aa2b57da86",
   "metadata": {},
   "source": [
    "# Lists\n",
    "\n",
    "Create a list that contains at least one string, one integer and one float.\n",
    "\n",
    "For example:\n",
    "\n",
    "`[1, 'two', 3.14159]`\n",
    "\n",
    "Note that the order and number of items doesn't matter. \n",
    "\n",
    "The answer should just be one list on a single line. Don't assign a variable name to the list."
   ]
  },
  {
   "cell_type": "code",
   "execution_count": 1,
   "id": "536fcd9d-ddb3-4938-a986-9f9b8654ee24",
   "metadata": {},
   "outputs": [],
   "source": [
    "mylist = [1, 'two', 3.14159]"
   ]
  }
 ],
 "metadata": {
  "kernelspec": {
   "display_name": "Python 3 (ipykernel)",
   "language": "python",
   "name": "python3"
  },
  "language_info": {
   "codemirror_mode": {
    "name": "ipython",
    "version": 3
   },
   "file_extension": ".py",
   "mimetype": "text/x-python",
   "name": "python",
   "nbconvert_exporter": "python",
   "pygments_lexer": "ipython3",
   "version": "3.11.7"
  }
 },
 "nbformat": 4,
 "nbformat_minor": 5
}
