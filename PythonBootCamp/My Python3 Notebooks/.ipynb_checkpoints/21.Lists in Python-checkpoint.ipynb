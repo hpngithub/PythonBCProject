{
 "cells": [
  {
   "cell_type": "markdown",
   "id": "da5ac4bb-54ce-4e75-9656-746e570fcf45",
   "metadata": {},
   "source": [
    "### Create Lists"
   ]
  },
  {
   "cell_type": "code",
   "execution_count": 1,
   "id": "6f56f9b1-53c4-4106-88b5-2445b7256f69",
   "metadata": {},
   "outputs": [],
   "source": [
    "# Create lists 1 - Sequance \n",
    "my_list = [1,2,3]"
   ]
  },
  {
   "cell_type": "code",
   "execution_count": 2,
   "id": "922028f4-3133-4166-8fd7-2fd29cc167a7",
   "metadata": {},
   "outputs": [
    {
     "data": {
      "text/plain": [
       "[1, 2, 3]"
      ]
     },
     "execution_count": 2,
     "metadata": {},
     "output_type": "execute_result"
    }
   ],
   "source": [
    "# Check lists\n",
    "my_list"
   ]
  },
  {
   "cell_type": "code",
   "execution_count": 3,
   "id": "b932796c-4cc2-4d97-b72e-98ba7a5052b9",
   "metadata": {},
   "outputs": [],
   "source": [
    "# Create Lists 2 - Mixed\n",
    "my_list = ['STRING',100,23.2]"
   ]
  },
  {
   "cell_type": "code",
   "execution_count": 4,
   "id": "7da941b4-2e55-4029-aa94-66a50519c172",
   "metadata": {},
   "outputs": [
    {
     "data": {
      "text/plain": [
       "['STRING', 100, 23.2]"
      ]
     },
     "execution_count": 4,
     "metadata": {},
     "output_type": "execute_result"
    }
   ],
   "source": [
    "my_list"
   ]
  },
  {
   "cell_type": "markdown",
   "id": "e90d31ba-d695-4cbd-9c29-a92031b1ebb0",
   "metadata": {},
   "source": [
    "### Check the Length of List."
   ]
  },
  {
   "cell_type": "code",
   "execution_count": 5,
   "id": "4ed7467f-9306-4485-8f03-0674dacce837",
   "metadata": {},
   "outputs": [
    {
     "data": {
      "text/plain": [
       "3"
      ]
     },
     "execution_count": 5,
     "metadata": {},
     "output_type": "execute_result"
    }
   ],
   "source": [
    "# Check the length using len function.\n",
    "# Note : Length mean finding out number elements or items in list.\n",
    "len(my_list)"
   ]
  },
  {
   "cell_type": "markdown",
   "id": "2baf8fc0-7a6f-4522-ac9a-40750a89a245",
   "metadata": {},
   "source": [
    "### Indexing and Slicing in List"
   ]
  },
  {
   "cell_type": "code",
   "execution_count": 6,
   "id": "94e7f52f-9cc2-4277-8a74-94465c9e2c44",
   "metadata": {},
   "outputs": [],
   "source": [
    "#Create the list\n",
    "mylist = ['one','two','three']"
   ]
  },
  {
   "cell_type": "code",
   "execution_count": 7,
   "id": "e674ccf9-b551-487d-965c-e639902c9623",
   "metadata": {},
   "outputs": [
    {
     "data": {
      "text/plain": [
       "['one', 'two', 'three']"
      ]
     },
     "execution_count": 7,
     "metadata": {},
     "output_type": "execute_result"
    }
   ],
   "source": [
    "#Check the list\n",
    "mylist"
   ]
  },
  {
   "cell_type": "code",
   "execution_count": 8,
   "id": "c25c1ba1-ba0c-40a1-a52e-1928f7c40cdf",
   "metadata": {},
   "outputs": [
    {
     "data": {
      "text/plain": [
       "'one'"
      ]
     },
     "execution_count": 8,
     "metadata": {},
     "output_type": "execute_result"
    }
   ],
   "source": [
    "#Grab the elements : Example - 'one'  [INDEXING]\n",
    "mylist[0]"
   ]
  },
  {
   "cell_type": "code",
   "execution_count": 9,
   "id": "fc5fc63a-6884-455e-a048-ed7bf9dc9d4a",
   "metadata": {},
   "outputs": [
    {
     "data": {
      "text/plain": [
       "['two', 'three']"
      ]
     },
     "execution_count": 9,
     "metadata": {},
     "output_type": "execute_result"
    }
   ],
   "source": [
    "#Grab all Elements from middle (index 1) to last only.  [SLICING]\n",
    "mylist[1:]"
   ]
  },
  {
   "cell_type": "markdown",
   "id": "1f0b41d5-d342-42a3-9446-425952e1b9cc",
   "metadata": {},
   "source": [
    "### Concatenate List"
   ]
  },
  {
   "cell_type": "code",
   "execution_count": 10,
   "id": "9e087678-bfbb-40d6-9bf9-ba86f40544ed",
   "metadata": {},
   "outputs": [
    {
     "data": {
      "text/plain": [
       "['one', 'two', 'three']"
      ]
     },
     "execution_count": 10,
     "metadata": {},
     "output_type": "execute_result"
    }
   ],
   "source": [
    "# My list\n",
    "mylist"
   ]
  },
  {
   "cell_type": "code",
   "execution_count": 11,
   "id": "3c940aa4-f003-489a-b055-5eb9b5b63828",
   "metadata": {},
   "outputs": [],
   "source": [
    "# Create Another list\n",
    "another_list = ['four','five']"
   ]
  },
  {
   "cell_type": "code",
   "execution_count": 12,
   "id": "b0e361b2-f5a1-430c-b4d6-42f9214c999b",
   "metadata": {},
   "outputs": [
    {
     "data": {
      "text/plain": [
       "['four', 'five']"
      ]
     },
     "execution_count": 12,
     "metadata": {},
     "output_type": "execute_result"
    }
   ],
   "source": [
    "# Check Another list\n",
    "another_list"
   ]
  },
  {
   "cell_type": "code",
   "execution_count": 13,
   "id": "5b8b902c-e487-4b18-a1d1-4e2150ad12d0",
   "metadata": {},
   "outputs": [
    {
     "data": {
      "text/plain": [
       "['one', 'two', 'three', 'four', 'five']"
      ]
     },
     "execution_count": 13,
     "metadata": {},
     "output_type": "execute_result"
    }
   ],
   "source": [
    "# Concatenate both list\n",
    "mylist + another_list"
   ]
  },
  {
   "cell_type": "code",
   "execution_count": 14,
   "id": "478e9b13-ed08-4d78-8de2-4fbb795b2c95",
   "metadata": {},
   "outputs": [],
   "source": [
    "# Saving Concatenate both list\n",
    "newlist = mylist + another_list"
   ]
  },
  {
   "cell_type": "code",
   "execution_count": 15,
   "id": "711ee8e8-e48e-4c72-8a66-4f63eb568d82",
   "metadata": {},
   "outputs": [
    {
     "data": {
      "text/plain": [
       "['one', 'two', 'three', 'four', 'five']"
      ]
     },
     "execution_count": 15,
     "metadata": {},
     "output_type": "execute_result"
    }
   ],
   "source": [
    "# Checking Concatenate both list name newlist\n",
    "newlist"
   ]
  },
  {
   "cell_type": "markdown",
   "id": "62d05a4f-0855-4f31-a53a-c6ae9fd1c2ad",
   "metadata": {},
   "source": [
    "### Mutate or Change Elements in List"
   ]
  },
  {
   "cell_type": "code",
   "execution_count": 16,
   "id": "ef4215f7-9c90-4e52-b816-0540169e827e",
   "metadata": {},
   "outputs": [
    {
     "data": {
      "text/plain": [
       "['one', 'two', 'three', 'four', 'five']"
      ]
     },
     "execution_count": 16,
     "metadata": {},
     "output_type": "execute_result"
    }
   ],
   "source": [
    "# My new list\n",
    "newlist"
   ]
  },
  {
   "cell_type": "code",
   "execution_count": 18,
   "id": "e06becbe-fa84-48ed-ab19-dbbadc9b81eb",
   "metadata": {},
   "outputs": [],
   "source": [
    "# Mutate Element : Example - 'one'\n",
    "newlist[0] = 'ONE ALL CAPS'"
   ]
  },
  {
   "cell_type": "code",
   "execution_count": 19,
   "id": "13fc0fb5-b3ad-4b97-8e8f-f2bdd6329c62",
   "metadata": {},
   "outputs": [
    {
     "data": {
      "text/plain": [
       "['ONE ALL CAPS', 'two', 'three', 'four', 'five']"
      ]
     },
     "execution_count": 19,
     "metadata": {},
     "output_type": "execute_result"
    }
   ],
   "source": [
    "# Check my mutate new list\n",
    "newlist"
   ]
  },
  {
   "cell_type": "markdown",
   "id": "3bfba13e-d19b-44bd-8b16-5584bee2aa8e",
   "metadata": {},
   "source": [
    "### Add elements inside list"
   ]
  },
  {
   "cell_type": "markdown",
   "id": "2ebcbce0-0075-4c45-9a41-aeaced6df8ed",
   "metadata": {},
   "source": [
    "*Note : The function we going to use is 'append' using .+pressing Keyboard tab button.*"
   ]
  },
  {
   "cell_type": "code",
   "execution_count": 20,
   "id": "a96ff12d-5ad6-4d06-9e28-dd1e6aabafca",
   "metadata": {},
   "outputs": [
    {
     "data": {
      "text/plain": [
       "['ONE ALL CAPS', 'two', 'three', 'four', 'five']"
      ]
     },
     "execution_count": 20,
     "metadata": {},
     "output_type": "execute_result"
    }
   ],
   "source": [
    "# My new list\n",
    "newlist"
   ]
  },
  {
   "cell_type": "code",
   "execution_count": 21,
   "id": "547d2f70-b194-4d4b-a6ed-f264c9c0413a",
   "metadata": {},
   "outputs": [],
   "source": [
    "# Adding elements using 'append' button.\n",
    "newlist.append('six')"
   ]
  },
  {
   "cell_type": "code",
   "execution_count": 22,
   "id": "1d89140f-7320-443d-bea3-94e93c4c31c0",
   "metadata": {},
   "outputs": [
    {
     "data": {
      "text/plain": [
       "['ONE ALL CAPS', 'two', 'three', 'four', 'five', 'six']"
      ]
     },
     "execution_count": 22,
     "metadata": {},
     "output_type": "execute_result"
    }
   ],
   "source": [
    "# Check new list\n",
    "newlist"
   ]
  },
  {
   "cell_type": "code",
   "execution_count": 23,
   "id": "7a02d1b0-5565-400c-947a-3c79daf810ea",
   "metadata": {},
   "outputs": [],
   "source": [
    "# Adding another elements using 'append' function.\n",
    "newlist.append('seven')"
   ]
  },
  {
   "cell_type": "code",
   "execution_count": 24,
   "id": "fcfb3515-9118-4248-a7d6-7047b523cec0",
   "metadata": {},
   "outputs": [
    {
     "data": {
      "text/plain": [
       "['ONE ALL CAPS', 'two', 'three', 'four', 'five', 'six', 'seven']"
      ]
     },
     "execution_count": 24,
     "metadata": {},
     "output_type": "execute_result"
    }
   ],
   "source": [
    "# Check new list again\n",
    "newlist"
   ]
  },
  {
   "cell_type": "markdown",
   "id": "fb9db958-37cc-462c-8ce8-f9d3a44b3331",
   "metadata": {},
   "source": [
    "### Remove elements inside list"
   ]
  },
  {
   "cell_type": "markdown",
   "id": "f1ff28b7-2900-4b0e-a486-dc3ce299ad73",
   "metadata": {},
   "source": [
    "*Note : The function we going to use is 'pop' using .+pressing Keyboard tab button.*"
   ]
  },
  {
   "cell_type": "code",
   "execution_count": 25,
   "id": "78ed7f48-80c6-4bd3-8651-342cc1956793",
   "metadata": {},
   "outputs": [
    {
     "data": {
      "text/plain": [
       "['ONE ALL CAPS', 'two', 'three', 'four', 'five', 'six', 'seven']"
      ]
     },
     "execution_count": 25,
     "metadata": {},
     "output_type": "execute_result"
    }
   ],
   "source": [
    "# My new list\n",
    "newlist"
   ]
  },
  {
   "cell_type": "code",
   "execution_count": 26,
   "id": "a51546a4-ce13-4e4b-94a2-5c44b00c1502",
   "metadata": {},
   "outputs": [
    {
     "data": {
      "text/plain": [
       "'seven'"
      ]
     },
     "execution_count": 26,
     "metadata": {},
     "output_type": "execute_result"
    }
   ],
   "source": [
    "# removing last elements using 'pop' function.\n",
    "# Note : Result will show you which came out from list.\n",
    "newlist.pop()"
   ]
  },
  {
   "cell_type": "code",
   "execution_count": 27,
   "id": "1d5842a6-e722-4fc9-886e-de37f15d22ed",
   "metadata": {},
   "outputs": [
    {
     "data": {
      "text/plain": [
       "['ONE ALL CAPS', 'two', 'three', 'four', 'five', 'six']"
      ]
     },
     "execution_count": 27,
     "metadata": {},
     "output_type": "execute_result"
    }
   ],
   "source": [
    "# Check my new list\n",
    "newlist"
   ]
  },
  {
   "cell_type": "code",
   "execution_count": 28,
   "id": "d637d7b4-93e1-4cd4-9ea7-b4c0f9b506b0",
   "metadata": {},
   "outputs": [],
   "source": [
    "# Save the list newlist without 'seven' elements.\n",
    "popped_item =newlist.pop()"
   ]
  },
  {
   "cell_type": "code",
   "execution_count": 29,
   "id": "f0306130-6e8e-47bc-805a-ab2046365a7c",
   "metadata": {},
   "outputs": [
    {
     "data": {
      "text/plain": [
       "'six'"
      ]
     },
     "execution_count": 29,
     "metadata": {},
     "output_type": "execute_result"
    }
   ],
   "source": [
    "# Check the if item removed.\n",
    "popped_item"
   ]
  },
  {
   "cell_type": "code",
   "execution_count": 30,
   "id": "b716d0b1-3956-4445-ac00-220ab82bbcf1",
   "metadata": {},
   "outputs": [
    {
     "data": {
      "text/plain": [
       "['ONE ALL CAPS', 'two', 'three', 'four', 'five']"
      ]
     },
     "execution_count": 30,
     "metadata": {},
     "output_type": "execute_result"
    }
   ],
   "source": [
    "# Check my new list\n",
    "newlist"
   ]
  },
  {
   "cell_type": "code",
   "execution_count": 31,
   "id": "dc8a111f-bf05-4206-bea8-e19836ced924",
   "metadata": {},
   "outputs": [
    {
     "data": {
      "text/plain": [
       "'ONE ALL CAPS'"
      ]
     },
     "execution_count": 31,
     "metadata": {},
     "output_type": "execute_result"
    }
   ],
   "source": [
    "# Remove perticular elements from list\n",
    "# Note : 0 is 'ONE ALL CAPS'\n",
    "newlist.pop(0)"
   ]
  },
  {
   "cell_type": "code",
   "execution_count": 32,
   "id": "a3539d1d-8764-4da0-95b2-b11d5adcf287",
   "metadata": {},
   "outputs": [
    {
     "data": {
      "text/plain": [
       "['two', 'three', 'four', 'five']"
      ]
     },
     "execution_count": 32,
     "metadata": {},
     "output_type": "execute_result"
    }
   ],
   "source": [
    "# Check my new list\n",
    "newlist"
   ]
  },
  {
   "cell_type": "markdown",
   "id": "a4907d1f-4af4-4d69-840d-60f3cd17391b",
   "metadata": {},
   "source": [
    "### Sort and Reverse list"
   ]
  },
  {
   "cell_type": "markdown",
   "id": "93d55192-abb6-4168-b812-a1df2e9e5ce0",
   "metadata": {},
   "source": [
    "*Note : The function we going to use is 'sort' for sorting or 'reverse' for reverse with both using .+pressing Keyboard tab button.*"
   ]
  },
  {
   "cell_type": "code",
   "execution_count": 33,
   "id": "db662643-8e45-4437-8553-ee0ab1660544",
   "metadata": {},
   "outputs": [],
   "source": [
    "# Create 2 list letter and number\n",
    "newlist =['a','e','x','b','c']\n",
    "numlist = [4,1,8,3]"
   ]
  },
  {
   "cell_type": "code",
   "execution_count": 38,
   "id": "845b15ee-0307-451b-8792-5124ae5c4cca",
   "metadata": {},
   "outputs": [
    {
     "data": {
      "text/plain": [
       "['a', 'e', 'x', 'b', 'c']"
      ]
     },
     "execution_count": 38,
     "metadata": {},
     "output_type": "execute_result"
    }
   ],
   "source": [
    "# Check letter list.\n",
    "newlist"
   ]
  },
  {
   "cell_type": "code",
   "execution_count": 40,
   "id": "4aca1ce3-fa33-44b2-ba2c-806232981489",
   "metadata": {},
   "outputs": [
    {
     "data": {
      "text/plain": [
       "[4, 1, 8, 3]"
      ]
     },
     "execution_count": 40,
     "metadata": {},
     "output_type": "execute_result"
    }
   ],
   "source": [
    "# Check number list.\n",
    "numlist"
   ]
  },
  {
   "cell_type": "code",
   "execution_count": 41,
   "id": "afe2b06d-f009-4f75-9f71-20e9a1780b6d",
   "metadata": {},
   "outputs": [],
   "source": [
    "# Sort Alphabatically the newlist.\n",
    "newlist.sort()"
   ]
  },
  {
   "cell_type": "code",
   "execution_count": 42,
   "id": "9fb6ff88-2719-4b3c-b01c-6146df4e7f05",
   "metadata": {},
   "outputs": [
    {
     "data": {
      "text/plain": [
       "['a', 'b', 'c', 'e', 'x']"
      ]
     },
     "execution_count": 42,
     "metadata": {},
     "output_type": "execute_result"
    }
   ],
   "source": [
    "# Check letter list.\n",
    "newlist"
   ]
  },
  {
   "cell_type": "code",
   "execution_count": null,
   "id": "1cc7d97c-a914-43a7-ae18-52ab4da22d17",
   "metadata": {},
   "outputs": [],
   "source": []
  }
 ],
 "metadata": {
  "kernelspec": {
   "display_name": "Python 3 (ipykernel)",
   "language": "python",
   "name": "python3"
  },
  "language_info": {
   "codemirror_mode": {
    "name": "ipython",
    "version": 3
   },
   "file_extension": ".py",
   "mimetype": "text/x-python",
   "name": "python",
   "nbconvert_exporter": "python",
   "pygments_lexer": "ipython3",
   "version": "3.11.7"
  }
 },
 "nbformat": 4,
 "nbformat_minor": 5
}
