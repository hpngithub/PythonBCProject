{
 "cells": [
  {
   "cell_type": "markdown",
   "id": "da5ac4bb-54ce-4e75-9656-746e570fcf45",
   "metadata": {},
   "source": [
    "### Create Lists"
   ]
  },
  {
   "cell_type": "code",
   "execution_count": 1,
   "id": "6f56f9b1-53c4-4106-88b5-2445b7256f69",
   "metadata": {},
   "outputs": [],
   "source": [
    "# Create lists 1 - Sequance \n",
    "my_list = [1,2,3]"
   ]
  },
  {
   "cell_type": "code",
   "execution_count": 2,
   "id": "922028f4-3133-4166-8fd7-2fd29cc167a7",
   "metadata": {},
   "outputs": [
    {
     "data": {
      "text/plain": [
       "[1, 2, 3]"
      ]
     },
     "execution_count": 2,
     "metadata": {},
     "output_type": "execute_result"
    }
   ],
   "source": [
    "# Check lists\n",
    "my_list"
   ]
  },
  {
   "cell_type": "code",
   "execution_count": 3,
   "id": "b932796c-4cc2-4d97-b72e-98ba7a5052b9",
   "metadata": {},
   "outputs": [],
   "source": [
    "# Create Lists 2 - Mixed\n",
    "my_list = ['STRING',100,23.2]"
   ]
  },
  {
   "cell_type": "code",
   "execution_count": 4,
   "id": "7da941b4-2e55-4029-aa94-66a50519c172",
   "metadata": {},
   "outputs": [
    {
     "data": {
      "text/plain": [
       "['STRING', 100, 23.2]"
      ]
     },
     "execution_count": 4,
     "metadata": {},
     "output_type": "execute_result"
    }
   ],
   "source": [
    "my_list"
   ]
  },
  {
   "cell_type": "markdown",
   "id": "e90d31ba-d695-4cbd-9c29-a92031b1ebb0",
   "metadata": {},
   "source": [
    "### Check the Length of List."
   ]
  },
  {
   "cell_type": "code",
   "execution_count": 5,
   "id": "4ed7467f-9306-4485-8f03-0674dacce837",
   "metadata": {},
   "outputs": [
    {
     "data": {
      "text/plain": [
       "3"
      ]
     },
     "execution_count": 5,
     "metadata": {},
     "output_type": "execute_result"
    }
   ],
   "source": [
    "# Check the length using len function.\n",
    "# Note : Length mean finding out number elements or items in list.\n",
    "len(my_list)"
   ]
  },
  {
   "cell_type": "code",
   "execution_count": null,
   "id": "55d63850-0a95-4e9b-98e8-b91d907f5919",
   "metadata": {},
   "outputs": [],
   "source": []
  }
 ],
 "metadata": {
  "kernelspec": {
   "display_name": "Python 3 (ipykernel)",
   "language": "python",
   "name": "python3"
  },
  "language_info": {
   "codemirror_mode": {
    "name": "ipython",
    "version": 3
   },
   "file_extension": ".py",
   "mimetype": "text/x-python",
   "name": "python",
   "nbconvert_exporter": "python",
   "pygments_lexer": "ipython3",
   "version": "3.11.7"
  }
 },
 "nbformat": 4,
 "nbformat_minor": 5
}
