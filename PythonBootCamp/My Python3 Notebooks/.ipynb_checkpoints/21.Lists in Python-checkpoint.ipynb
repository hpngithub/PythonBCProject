{
 "cells": [
  {
   "cell_type": "markdown",
   "id": "da5ac4bb-54ce-4e75-9656-746e570fcf45",
   "metadata": {},
   "source": [
    "### Create Lists"
   ]
  },
  {
   "cell_type": "code",
   "execution_count": 1,
   "id": "6f56f9b1-53c4-4106-88b5-2445b7256f69",
   "metadata": {},
   "outputs": [],
   "source": [
    "# Create lists 1 - Sequance \n",
    "my_list = [1,2,3]"
   ]
  },
  {
   "cell_type": "code",
   "execution_count": 2,
   "id": "922028f4-3133-4166-8fd7-2fd29cc167a7",
   "metadata": {},
   "outputs": [
    {
     "data": {
      "text/plain": [
       "[1, 2, 3]"
      ]
     },
     "execution_count": 2,
     "metadata": {},
     "output_type": "execute_result"
    }
   ],
   "source": [
    "# Check lists\n",
    "my_list"
   ]
  },
  {
   "cell_type": "code",
   "execution_count": 3,
   "id": "b932796c-4cc2-4d97-b72e-98ba7a5052b9",
   "metadata": {},
   "outputs": [],
   "source": [
    "# Create Lists 2 - Mixed\n",
    "my_list = ['STRING',100,23.2]"
   ]
  },
  {
   "cell_type": "code",
   "execution_count": 4,
   "id": "7da941b4-2e55-4029-aa94-66a50519c172",
   "metadata": {},
   "outputs": [
    {
     "data": {
      "text/plain": [
       "['STRING', 100, 23.2]"
      ]
     },
     "execution_count": 4,
     "metadata": {},
     "output_type": "execute_result"
    }
   ],
   "source": [
    "my_list"
   ]
  },
  {
   "cell_type": "markdown",
   "id": "e90d31ba-d695-4cbd-9c29-a92031b1ebb0",
   "metadata": {},
   "source": [
    "### Check the Length of List."
   ]
  },
  {
   "cell_type": "code",
   "execution_count": 5,
   "id": "4ed7467f-9306-4485-8f03-0674dacce837",
   "metadata": {},
   "outputs": [
    {
     "data": {
      "text/plain": [
       "3"
      ]
     },
     "execution_count": 5,
     "metadata": {},
     "output_type": "execute_result"
    }
   ],
   "source": [
    "# Check the length using len function.\n",
    "# Note : Length mean finding out number elements or items in list.\n",
    "len(my_list)"
   ]
  },
  {
   "cell_type": "markdown",
   "id": "2baf8fc0-7a6f-4522-ac9a-40750a89a245",
   "metadata": {},
   "source": [
    "### Indexing and Slicing in List"
   ]
  },
  {
   "cell_type": "code",
   "execution_count": 6,
   "id": "94e7f52f-9cc2-4277-8a74-94465c9e2c44",
   "metadata": {},
   "outputs": [],
   "source": [
    "#Create the list\n",
    "mylist = ['one','two','three']"
   ]
  },
  {
   "cell_type": "code",
   "execution_count": 7,
   "id": "e674ccf9-b551-487d-965c-e639902c9623",
   "metadata": {},
   "outputs": [
    {
     "data": {
      "text/plain": [
       "['one', 'two', 'three']"
      ]
     },
     "execution_count": 7,
     "metadata": {},
     "output_type": "execute_result"
    }
   ],
   "source": [
    "#Check the list\n",
    "mylist"
   ]
  },
  {
   "cell_type": "code",
   "execution_count": 8,
   "id": "c25c1ba1-ba0c-40a1-a52e-1928f7c40cdf",
   "metadata": {},
   "outputs": [
    {
     "data": {
      "text/plain": [
       "'one'"
      ]
     },
     "execution_count": 8,
     "metadata": {},
     "output_type": "execute_result"
    }
   ],
   "source": [
    "#Grab the elements : Example - 'one'\n",
    "mylist[0]"
   ]
  },
  {
   "cell_type": "code",
   "execution_count": 9,
   "id": "fc5fc63a-6884-455e-a048-ed7bf9dc9d4a",
   "metadata": {},
   "outputs": [
    {
     "data": {
      "text/plain": [
       "['two', 'three']"
      ]
     },
     "execution_count": 9,
     "metadata": {},
     "output_type": "execute_result"
    }
   ],
   "source": [
    "#Grab all Elements from middle (index 1) to last only]\n",
    "mylist[1:]"
   ]
  },
  {
   "cell_type": "code",
   "execution_count": null,
   "id": "b19a197d-abf8-44a8-90ad-cbf998a783fc",
   "metadata": {},
   "outputs": [],
   "source": []
  }
 ],
 "metadata": {
  "kernelspec": {
   "display_name": "Python 3 (ipykernel)",
   "language": "python",
   "name": "python3"
  },
  "language_info": {
   "codemirror_mode": {
    "name": "ipython",
    "version": 3
   },
   "file_extension": ".py",
   "mimetype": "text/x-python",
   "name": "python",
   "nbconvert_exporter": "python",
   "pygments_lexer": "ipython3",
   "version": "3.11.7"
  }
 },
 "nbformat": 4,
 "nbformat_minor": 5
}
