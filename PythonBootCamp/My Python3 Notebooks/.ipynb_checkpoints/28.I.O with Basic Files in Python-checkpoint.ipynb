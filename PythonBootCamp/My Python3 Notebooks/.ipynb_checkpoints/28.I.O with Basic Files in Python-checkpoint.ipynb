{
 "cells": [
  {
   "cell_type": "markdown",
   "id": "5e565268-c7d2-44e4-9942-3a42331924ed",
   "metadata": {},
   "source": [
    "### Jupyter Magic Functionality"
   ]
  },
  {
   "cell_type": "code",
   "execution_count": 8,
   "id": "d831c99b-13ab-46e3-9d7a-dfadbd39fa28",
   "metadata": {},
   "outputs": [],
   "source": [
    "# Using Magic commands '%%' + 'Magicfunction' to create the text file\n",
    "# Note: Only work on Jupyter Notebook and it is '%%\" + 'tab' in keyboad and choosing '%%writefile' with filename.\n",
    "# REF URL = https://www.tutorialspoint.com/jupyter/ipython_magic_commands.htm"
   ]
  },
  {
   "cell_type": "code",
   "execution_count": 7,
   "id": "8de67d00-3361-4896-8445-db6d7d14adfb",
   "metadata": {},
   "outputs": [
    {
     "name": "stdout",
     "output_type": "stream",
     "text": [
      "Writing myfile.txt\n"
     ]
    }
   ],
   "source": [
    "%%writefile myfile.txt\n",
    "Hello this is a text file\n",
    "this is the secound line\n",
    "this is the third line"
   ]
  },
  {
   "cell_type": "markdown",
   "id": "58764ba5-a7bc-4a20-90c3-a8f85405e86f",
   "metadata": {},
   "source": [
    "### Create a File String"
   ]
  },
  {
   "cell_type": "code",
   "execution_count": 9,
   "id": "739f075a-3565-45d5-b843-01c894049e46",
   "metadata": {},
   "outputs": [],
   "source": [
    "# Common Mistake Error : Writing Wrong Name or Saving the File\n",
    "# Note : Correct file name is 'myfile.txt' will not give error during creating string.\n",
    "myfile = open('myfile.txt')"
   ]
  },
  {
   "cell_type": "code",
   "execution_count": 10,
   "id": "3c9cae29-18c9-43af-874b-93b52cc65cc1",
   "metadata": {},
   "outputs": [
    {
     "ename": "FileNotFoundError",
     "evalue": "[Errno 2] No such file or directory: 'whoops_wrong.txt'",
     "output_type": "error",
     "traceback": [
      "\u001b[0;31m---------------------------------------------------------------------------\u001b[0m",
      "\u001b[0;31mFileNotFoundError\u001b[0m                         Traceback (most recent call last)",
      "Cell \u001b[0;32mIn[10], line 2\u001b[0m\n\u001b[1;32m      1\u001b[0m \u001b[38;5;66;03m# Note : Incorrect or Non existing file name is 'whoops_wrong.txt') and it create error during creating string.\u001b[39;00m\n\u001b[0;32m----> 2\u001b[0m myfile \u001b[38;5;241m=\u001b[39m \u001b[38;5;28mopen\u001b[39m (\u001b[38;5;124m'\u001b[39m\u001b[38;5;124mwhoops_wrong.txt\u001b[39m\u001b[38;5;124m'\u001b[39m)\n",
      "File \u001b[0;32m~/anaconda3/lib/python3.11/site-packages/IPython/core/interactiveshell.py:310\u001b[0m, in \u001b[0;36m_modified_open\u001b[0;34m(file, *args, **kwargs)\u001b[0m\n\u001b[1;32m    303\u001b[0m \u001b[38;5;28;01mif\u001b[39;00m file \u001b[38;5;129;01min\u001b[39;00m {\u001b[38;5;241m0\u001b[39m, \u001b[38;5;241m1\u001b[39m, \u001b[38;5;241m2\u001b[39m}:\n\u001b[1;32m    304\u001b[0m     \u001b[38;5;28;01mraise\u001b[39;00m \u001b[38;5;167;01mValueError\u001b[39;00m(\n\u001b[1;32m    305\u001b[0m         \u001b[38;5;124mf\u001b[39m\u001b[38;5;124m\"\u001b[39m\u001b[38;5;124mIPython won\u001b[39m\u001b[38;5;124m'\u001b[39m\u001b[38;5;124mt let you open fd=\u001b[39m\u001b[38;5;132;01m{\u001b[39;00mfile\u001b[38;5;132;01m}\u001b[39;00m\u001b[38;5;124m by default \u001b[39m\u001b[38;5;124m\"\u001b[39m\n\u001b[1;32m    306\u001b[0m         \u001b[38;5;124m\"\u001b[39m\u001b[38;5;124mas it is likely to crash IPython. If you know what you are doing, \u001b[39m\u001b[38;5;124m\"\u001b[39m\n\u001b[1;32m    307\u001b[0m         \u001b[38;5;124m\"\u001b[39m\u001b[38;5;124myou can use builtins\u001b[39m\u001b[38;5;124m'\u001b[39m\u001b[38;5;124m open.\u001b[39m\u001b[38;5;124m\"\u001b[39m\n\u001b[1;32m    308\u001b[0m     )\n\u001b[0;32m--> 310\u001b[0m \u001b[38;5;28;01mreturn\u001b[39;00m io_open(file, \u001b[38;5;241m*\u001b[39margs, \u001b[38;5;241m*\u001b[39m\u001b[38;5;241m*\u001b[39mkwargs)\n",
      "\u001b[0;31mFileNotFoundError\u001b[0m: [Errno 2] No such file or directory: 'whoops_wrong.txt'"
     ]
    }
   ],
   "source": [
    "# Note : Incorrect or Non existing file name without path is 'whoops_wrong.txt') and it create error during creating string.\n",
    "myfile = open ('whoops_wrong.txt')"
   ]
  },
  {
   "cell_type": "markdown",
   "id": "57410c57-2e51-4b68-938d-5c8017582d9c",
   "metadata": {},
   "source": [
    "### Print Working Director (pwd)"
   ]
  },
  {
   "cell_type": "code",
   "execution_count": 12,
   "id": "db33cb6d-3892-4738-acb4-166bc21eb156",
   "metadata": {},
   "outputs": [],
   "source": [
    "# Use 'pwd' function to see location of Jupyter Notebook directory where everthing getting saved.\n",
    "# Note : Result shold show you the path or your working directory of Jupyter Notebook. You should see path for my linux os."
   ]
  },
  {
   "cell_type": "code",
   "execution_count": 13,
   "id": "dadfb94e-e6d9-4464-8223-a783b01b9774",
   "metadata": {},
   "outputs": [
    {
     "data": {
      "text/plain": [
       "'/home/sysadmin/ProjPython/Git/PythonBCProject/PythonBootCamp/My Python3 Notebooks'"
      ]
     },
     "execution_count": 13,
     "metadata": {},
     "output_type": "execute_result"
    }
   ],
   "source": [
    "pwd"
   ]
  },
  {
   "cell_type": "markdown",
   "id": "7776006d-6cb4-4a6e-a531-d8c194be68b0",
   "metadata": {},
   "source": [
    "### Read"
   ]
  },
  {
   "cell_type": "code",
   "execution_count": 14,
   "id": "966092a4-880c-409f-967f-b26ac133fd02",
   "metadata": {},
   "outputs": [],
   "source": [
    "# Use 'open' function to open before read the .txt file.\n",
    "myfile = open('myfile.txt')"
   ]
  },
  {
   "cell_type": "code",
   "execution_count": 15,
   "id": "8ebb931f-22ce-4227-9741-8ef31b140b73",
   "metadata": {},
   "outputs": [
    {
     "data": {
      "text/plain": [
       "'Hello this is a text file\\nthis is the secound line\\nthis is the third line\\n'"
      ]
     },
     "execution_count": 15,
     "metadata": {},
     "output_type": "execute_result"
    }
   ],
   "source": [
    "# Use 'read' function to read the open .txt file.\n",
    "# Note : In result '\\n' is return button in keyboard and new line.\n",
    "myfile.read()"
   ]
  },
  {
   "cell_type": "code",
   "execution_count": 16,
   "id": "cd8ab48d-3a37-4bf3-8385-67fa450d668e",
   "metadata": {},
   "outputs": [
    {
     "data": {
      "text/plain": [
       "''"
      ]
     },
     "execution_count": 16,
     "metadata": {},
     "output_type": "execute_result"
    }
   ],
   "source": [
    "# Read again will only show empty string.\n",
    "# Note : Reusing the read function will not show anyting, due to not text available end of .txt file as cursior reside.\n",
    "myfile.read()"
   ]
  },
  {
   "cell_type": "code",
   "execution_count": 17,
   "id": "ef64ee36-d96d-4d03-9e4f-2e58cb8756cb",
   "metadata": {},
   "outputs": [
    {
     "data": {
      "text/plain": [
       "0"
      ]
     },
     "execution_count": 17,
     "metadata": {},
     "output_type": "execute_result"
    }
   ],
   "source": [
    "# Use 'seek' function to move cursor beganing of the .txt file content in order to read the file again.\n",
    "# Note : Initial read of file move cursor beganing to the end of the .txt file contect. So 'seek' function reset the cursor with result 0.\n",
    "myfile.seek(0)"
   ]
  },
  {
   "cell_type": "code",
   "execution_count": 18,
   "id": "ffd75299-b60f-4e54-b670-deef8e7291cc",
   "metadata": {},
   "outputs": [],
   "source": [
    "# Now put the command in strings to easy read again the 'myfile.txt' file.\n",
    "contents = myfile.read()"
   ]
  },
  {
   "cell_type": "code",
   "execution_count": 20,
   "id": "38b55025-a812-4779-ac8c-f4e8c21ed72b",
   "metadata": {},
   "outputs": [
    {
     "data": {
      "text/plain": [
       "'Hello this is a text file\\nthis is the secound line\\nthis is the third line\\n'"
      ]
     },
     "execution_count": 20,
     "metadata": {},
     "output_type": "execute_result"
    }
   ],
   "source": [
    "# Read again the .txt file, as cursor rest to 0. It should work.\n",
    "# Note : In result '\\n' is return button in keyboard and new line.\n",
    "contents"
   ]
  },
  {
   "cell_type": "code",
   "execution_count": null,
   "id": "304b8991-2756-4d8f-9524-495e81eec053",
   "metadata": {},
   "outputs": [],
   "source": []
  },
  {
   "cell_type": "markdown",
   "id": "ed543e08-dfd4-4e5a-b1c7-f7fafb0b1ccc",
   "metadata": {},
   "source": [
    "### File Locations\n",
    "If you want to open files at another location on your computer, simply pass in the entire file path.\n",
    "\n",
    "For Windows you need to use double \\ so python doesn't treat the second \\ as an escape character, a file path is in the form:\n",
    "\n",
    "    myfile = open(\"C:\\\\Users\\\\YourUserName\\\\Home\\\\Folder\\\\myfile.txt\")\n",
    "\n",
    "For MacOS and Linux you use slashes in the opposite direction:\n",
    "\n",
    "    myfile = open(\"/Users/YouUserName/Folder/myfile.txt\")"
   ]
  },
  {
   "cell_type": "code",
   "execution_count": null,
   "id": "22a37f8b-d6a2-42fd-b7c5-d16e0ed426ab",
   "metadata": {},
   "outputs": [],
   "source": []
  },
  {
   "cell_type": "markdown",
   "id": "6da44c3d-d3d9-4f63-81a0-cb1fbf9f2b51",
   "metadata": {},
   "source": [
    "### Reading, Writing, Appending Modes\n",
    "\n",
    "* __mode='r'__ is read only\n",
    "* __mode='w'__ is write only (will overwrite files or create new!)\n",
    "* __mode='a'__ is append only (will add on to files)\n",
    "* __mode='r+'__ is reading and writing\n",
    "* __mode='w+'__ is writing and reading (Overwrites existing files or creates a new file!)"
   ]
  },
  {
   "cell_type": "code",
   "execution_count": null,
   "id": "fda0fce0-19ea-4621-8604-365dd07b04b0",
   "metadata": {},
   "outputs": [],
   "source": []
  }
 ],
 "metadata": {
  "kernelspec": {
   "display_name": "Python 3 (ipykernel)",
   "language": "python",
   "name": "python3"
  },
  "language_info": {
   "codemirror_mode": {
    "name": "ipython",
    "version": 3
   },
   "file_extension": ".py",
   "mimetype": "text/x-python",
   "name": "python",
   "nbconvert_exporter": "python",
   "pygments_lexer": "ipython3",
   "version": "3.11.7"
  }
 },
 "nbformat": 4,
 "nbformat_minor": 5
}
