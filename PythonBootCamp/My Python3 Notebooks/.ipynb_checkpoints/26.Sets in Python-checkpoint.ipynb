{
 "cells": [
  {
   "cell_type": "markdown",
   "id": "3ff172fa-9610-44b2-b0e8-974cf77a7a53",
   "metadata": {},
   "source": [
    "### Set Creation Only"
   ]
  },
  {
   "cell_type": "code",
   "execution_count": 1,
   "id": "f29a133a-6d85-47c0-a060-6850389ec8dd",
   "metadata": {},
   "outputs": [],
   "source": [
    "# Create Set\n",
    "myset = set ()"
   ]
  },
  {
   "cell_type": "code",
   "execution_count": 2,
   "id": "ce54591c-733b-443a-ba66-fa0bc04fb3ef",
   "metadata": {},
   "outputs": [
    {
     "data": {
      "text/plain": [
       "set()"
      ]
     },
     "execution_count": 2,
     "metadata": {},
     "output_type": "execute_result"
    }
   ],
   "source": [
    "# Check the created Set\n",
    "myset"
   ]
  },
  {
   "cell_type": "markdown",
   "id": "825d8fb3-ca04-4ab5-ad93-adcd7d1a0185",
   "metadata": {},
   "source": [
    "### Filling the Empty Set"
   ]
  },
  {
   "cell_type": "code",
   "execution_count": 3,
   "id": "6fc7e7b6-5312-468b-b23d-c3f17b40e685",
   "metadata": {},
   "outputs": [
    {
     "data": {
      "text/plain": [
       "set()"
      ]
     },
     "execution_count": 3,
     "metadata": {},
     "output_type": "execute_result"
    }
   ],
   "source": [
    "# Check the set again, Where () mean it is empty.\n",
    "myset"
   ]
  },
  {
   "cell_type": "code",
   "execution_count": 4,
   "id": "fdfeb0ed-ec68-4b69-95c6-afdec38c9959",
   "metadata": {},
   "outputs": [],
   "source": [
    "# Add the number to empty set.\n",
    "# Note: We will use the .add funtion. To use that we will use (.) without bracket, Tab button on keyboard and add number 1 in ().\n",
    "myset.add(1)"
   ]
  },
  {
   "cell_type": "code",
   "execution_count": 5,
   "id": "a64603c8-ff01-4e59-b998-7debaf9b1bbe",
   "metadata": {},
   "outputs": [
    {
     "data": {
      "text/plain": [
       "{1}"
      ]
     },
     "execution_count": 5,
     "metadata": {},
     "output_type": "execute_result"
    }
   ],
   "source": [
    "# Check the set again, it should be filled wiht number 1.\n",
    "myset"
   ]
  },
  {
   "cell_type": "markdown",
   "id": "6b023056-1dc1-4e2d-be0c-f82faee3b33e",
   "metadata": {},
   "source": [
    "### Filling the fill Set with Additional Number"
   ]
  },
  {
   "cell_type": "code",
   "execution_count": 6,
   "id": "a182ecf3-eb80-4041-a931-7d2db747bedd",
   "metadata": {
    "editable": true,
    "slideshow": {
     "slide_type": ""
    },
    "tags": []
   },
   "outputs": [
    {
     "data": {
      "text/plain": [
       "{1}"
      ]
     },
     "execution_count": 6,
     "metadata": {},
     "output_type": "execute_result"
    }
   ],
   "source": [
    "# Check the set again for references\n",
    "myset"
   ]
  },
  {
   "cell_type": "code",
   "execution_count": 7,
   "id": "eaa01ed2-bdeb-4689-82e3-49120c83074f",
   "metadata": {},
   "outputs": [],
   "source": [
    "# Add the different number again with add function. Example: Number 2\n",
    "myset.add(2)"
   ]
  },
  {
   "cell_type": "code",
   "execution_count": 8,
   "id": "50243abc-fdd7-414d-b902-675b014d385e",
   "metadata": {},
   "outputs": [
    {
     "data": {
      "text/plain": [
       "{1, 2}"
      ]
     },
     "execution_count": 8,
     "metadata": {},
     "output_type": "execute_result"
    }
   ],
   "source": [
    "# Check the set again for added number 2.\n",
    "# Note : You should see previousl number 1 and 2, as it doesn't over right.\n",
    "myset"
   ]
  },
  {
   "cell_type": "markdown",
   "id": "f26e511a-362c-47d3-aa30-0e3fd2b6fd55",
   "metadata": {},
   "source": [
    "### Filling the Fill Set with same number.\n",
    "*Note: It doesn't replace or add aditional same number, as it requried unique value.*"
   ]
  },
  {
   "cell_type": "code",
   "execution_count": 9,
   "id": "c0b908f9-9c1b-4a9e-8cd6-dd9255a7928c",
   "metadata": {},
   "outputs": [
    {
     "data": {
      "text/plain": [
       "{1, 2}"
      ]
     },
     "execution_count": 9,
     "metadata": {},
     "output_type": "execute_result"
    }
   ],
   "source": [
    "# Check the set again for references\n",
    "myset"
   ]
  },
  {
   "cell_type": "code",
   "execution_count": 10,
   "id": "b4196401-5a66-44db-8fc1-03706e3bb44f",
   "metadata": {},
   "outputs": [],
   "source": [
    "# Use .Add funtion to add same number, Example: 2\n",
    "myset.add(2)"
   ]
  },
  {
   "cell_type": "code",
   "execution_count": 11,
   "id": "7925997a-663f-4642-a2cc-7c279ab542d5",
   "metadata": {},
   "outputs": [
    {
     "data": {
      "text/plain": [
       "{1, 2}"
      ]
     },
     "execution_count": 11,
     "metadata": {},
     "output_type": "execute_result"
    }
   ],
   "source": [
    "# Check the set again for changes.\n",
    "# Note: There should be no changes or repeate, as it required unique value.\n",
    "myset"
   ]
  },
  {
   "cell_type": "code",
   "execution_count": null,
   "id": "bff4c272-371a-44e7-ac07-96eb1fce173d",
   "metadata": {},
   "outputs": [],
   "source": []
  }
 ],
 "metadata": {
  "kernelspec": {
   "display_name": "Python 3 (ipykernel)",
   "language": "python",
   "name": "python3"
  },
  "language_info": {
   "codemirror_mode": {
    "name": "ipython",
    "version": 3
   },
   "file_extension": ".py",
   "mimetype": "text/x-python",
   "name": "python",
   "nbconvert_exporter": "python",
   "pygments_lexer": "ipython3",
   "version": "3.11.7"
  }
 },
 "nbformat": 4,
 "nbformat_minor": 5
}
