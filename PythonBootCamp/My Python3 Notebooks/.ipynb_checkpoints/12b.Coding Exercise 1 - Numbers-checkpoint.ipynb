{
 "cells": [
  {
   "cell_type": "markdown",
   "id": "ceb5930c-1ef0-41c2-b357-5a856ff8f280",
   "metadata": {},
   "source": [
    "# Numbers: Simple Arithmetic\n",
    "\n",
    "Write an expression that equals 100. \n",
    "\n",
    "For example 50+50   or 110-10 . \n",
    "\n",
    "See if you can use more than one arithmetic operator! Write only one expression and submit only one line of code.\n",
    "\n",
    "If your expression results in 100, then you should see a success message after you test out your solution :)"
   ]
  },
  {
   "cell_type": "code",
   "execution_count": 1,
   "id": "c888cd08-c232-4ff3-b394-31e9c85ea417",
   "metadata": {},
   "outputs": [
    {
     "data": {
      "text/plain": [
       "100"
      ]
     },
     "execution_count": 1,
     "metadata": {},
     "output_type": "execute_result"
    }
   ],
   "source": [
    "150-50"
   ]
  }
 ],
 "metadata": {
  "kernelspec": {
   "display_name": "Python 3 (ipykernel)",
   "language": "python",
   "name": "python3"
  },
  "language_info": {
   "codemirror_mode": {
    "name": "ipython",
    "version": 3
   },
   "file_extension": ".py",
   "mimetype": "text/x-python",
   "name": "python",
   "nbconvert_exporter": "python",
   "pygments_lexer": "ipython3",
   "version": "3.11.7"
  }
 },
 "nbformat": 4,
 "nbformat_minor": 5
}
