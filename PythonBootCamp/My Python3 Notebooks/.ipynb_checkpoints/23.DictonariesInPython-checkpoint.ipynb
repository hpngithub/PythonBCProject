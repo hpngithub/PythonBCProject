{
 "cells": [
  {
   "cell_type": "markdown",
   "id": "53d45081-dae0-4f5d-95c0-e0f75b839122",
   "metadata": {},
   "source": [
    "### Construct Dictonary"
   ]
  },
  {
   "cell_type": "code",
   "execution_count": 1,
   "id": "51490249-2fed-4866-9057-39368ed12874",
   "metadata": {},
   "outputs": [],
   "source": [
    "# Create Object 'my_dic' and define multiple key with value.\n",
    "my_dic = {'key1':'value', 'key2':'value2'}"
   ]
  },
  {
   "cell_type": "code",
   "execution_count": 2,
   "id": "c0354f9c-8483-4fbf-9724-37a3cf6aeca9",
   "metadata": {},
   "outputs": [
    {
     "data": {
      "text/plain": [
       "{'key1': 'value', 'key2': 'value2'}"
      ]
     },
     "execution_count": 2,
     "metadata": {},
     "output_type": "execute_result"
    }
   ],
   "source": [
    "# Test 'my_dic'\n",
    "my_dic"
   ]
  },
  {
   "cell_type": "code",
   "execution_count": 3,
   "id": "37efe3f6-653c-486c-9576-a22b9dfc4988",
   "metadata": {},
   "outputs": [
    {
     "data": {
      "text/plain": [
       "'value'"
      ]
     },
     "execution_count": 3,
     "metadata": {},
     "output_type": "execute_result"
    }
   ],
   "source": [
    "# Grab the specific values from 'my_dic'.\n",
    "my_dic['key1']"
   ]
  },
  {
   "cell_type": "markdown",
   "id": "d0a7b587-0139-456b-8d93-a4a711476eb0",
   "metadata": {},
   "source": [
    "### Use Case of Dictonary"
   ]
  },
  {
   "cell_type": "code",
   "execution_count": 8,
   "id": "20bac8e8-e3bb-49eb-9aa9-bd9db23255e7",
   "metadata": {},
   "outputs": [],
   "source": [
    "# Example of Price lookup - Part A\n",
    "# Note : Below created the dictionary\n",
    "prices_lookup = {'apple':2.99,'oranges':1.99,'milke':5.80}"
   ]
  },
  {
   "cell_type": "code",
   "execution_count": 9,
   "id": "de71a346-9602-41c4-95fb-bf6e3b302a45",
   "metadata": {},
   "outputs": [
    {
     "data": {
      "text/plain": [
       "2.99"
      ]
     },
     "execution_count": 9,
     "metadata": {},
     "output_type": "execute_result"
    }
   ],
   "source": [
    "# Example of Price lookup - Part B\n",
    "# Note : Below you will find out price of apple as example.\n",
    "prices_lookup['apple']"
   ]
  },
  {
   "cell_type": "code",
   "execution_count": null,
   "id": "6256a1fd-8416-4b2e-8164-7e6a1ee3a55b",
   "metadata": {},
   "outputs": [],
   "source": []
  }
 ],
 "metadata": {
  "kernelspec": {
   "display_name": "Python 3 (ipykernel)",
   "language": "python",
   "name": "python3"
  },
  "language_info": {
   "codemirror_mode": {
    "name": "ipython",
    "version": 3
   },
   "file_extension": ".py",
   "mimetype": "text/x-python",
   "name": "python",
   "nbconvert_exporter": "python",
   "pygments_lexer": "ipython3",
   "version": "3.11.7"
  }
 },
 "nbformat": 4,
 "nbformat_minor": 5
}
