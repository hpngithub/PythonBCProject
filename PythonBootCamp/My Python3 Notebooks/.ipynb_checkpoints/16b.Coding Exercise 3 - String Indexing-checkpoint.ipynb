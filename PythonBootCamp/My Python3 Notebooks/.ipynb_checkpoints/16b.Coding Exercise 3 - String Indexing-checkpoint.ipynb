{
 "cells": [
  {
   "cell_type": "markdown",
   "id": "4bb22892-01c6-4e86-b2d5-b6c16de96808",
   "metadata": {},
   "source": [
    "# String Indexing\n",
    "\n",
    "Write a string index that returns just the letter `'r'`  from `'Hello World'`.\n",
    "\n",
    "For example, `'Hello World'[0]`  returns `'H'` \n",
    "\n",
    "You should only write one line of code for this. Do not assign a variable name to the string."
   ]
  },
  {
   "cell_type": "code",
   "execution_count": 13,
   "id": "17275c87-d7f5-4924-8f45-e9b19df3799e",
   "metadata": {},
   "outputs": [
    {
     "data": {
      "text/plain": [
       "'r'"
      ]
     },
     "execution_count": 13,
     "metadata": {},
     "output_type": "execute_result"
    }
   ],
   "source": [
    "# Write your string index below\n",
    "# Start with 'Hello World'\n",
    "# and make sure to match spaces and capitalization exactly\n",
    "\n",
    "'Hello World'[8]"
   ]
  }
 ],
 "metadata": {
  "kernelspec": {
   "display_name": "Python 3 (ipykernel)",
   "language": "python",
   "name": "python3"
  },
  "language_info": {
   "codemirror_mode": {
    "name": "ipython",
    "version": 3
   },
   "file_extension": ".py",
   "mimetype": "text/x-python",
   "name": "python",
   "nbconvert_exporter": "python",
   "pygments_lexer": "ipython3",
   "version": "3.11.7"
  }
 },
 "nbformat": 4,
 "nbformat_minor": 5
}
