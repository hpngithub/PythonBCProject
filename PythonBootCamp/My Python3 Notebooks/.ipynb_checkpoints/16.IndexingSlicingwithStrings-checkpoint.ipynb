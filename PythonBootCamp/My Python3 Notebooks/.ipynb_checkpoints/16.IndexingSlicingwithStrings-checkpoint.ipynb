{
 "cells": [
  {
   "cell_type": "code",
   "execution_count": 1,
   "id": "11b3e347-2606-4c92-bbaf-3003b6ee46e8",
   "metadata": {},
   "outputs": [],
   "source": [
    "# Create the Variable called mystrings.\n",
    "mystring = \"Hello World\""
   ]
  },
  {
   "cell_type": "code",
   "execution_count": 2,
   "id": "62f9e919-8f7f-4dff-a862-f5428891c76f",
   "metadata": {},
   "outputs": [
    {
     "data": {
      "text/plain": [
       "'Hello World'"
      ]
     },
     "execution_count": 2,
     "metadata": {},
     "output_type": "execute_result"
    }
   ],
   "source": [
    "# Check and confirmed the Variable mystrings is created successfull.\n",
    "mystring"
   ]
  },
  {
   "cell_type": "markdown",
   "id": "fd14c952-4211-45fc-a54b-3242b4cd5169",
   "metadata": {},
   "source": [
    " # Capture single character using index, as per previous in Intro to Strings chapter. "
   ]
  },
  {
   "cell_type": "code",
   "execution_count": 4,
   "id": "33d5c038-ca01-48b1-8322-474185514737",
   "metadata": {},
   "outputs": [
    {
     "data": {
      "text/plain": [
       "'H'"
      ]
     },
     "execution_count": 4,
     "metadata": {},
     "output_type": "execute_result"
    }
   ],
   "source": [
    "# Example 1 : H is the character we grabing from strings with 0 as first charatcter doing index, as per previous in Intro to Strings chapter. \n",
    "mystring[0]"
   ]
  },
  {
   "cell_type": "code",
   "execution_count": 5,
   "id": "61d1bb0d-c894-4d91-966f-2bc911e2198d",
   "metadata": {},
   "outputs": [
    {
     "data": {
      "text/plain": [
       "'r'"
      ]
     },
     "execution_count": 5,
     "metadata": {},
     "output_type": "execute_result"
    }
   ],
   "source": [
    "# Example 2 : R is the character and as per count from 0, 1, 2, 3, 4, 5 (NOTE 5 is space in 'Hello World'), 6, 7, 8 (8 is R).\n",
    "mystring[8]"
   ]
  },
  {
   "cell_type": "markdown",
   "id": "0549e910-9a1d-4fc5-8cc6-0f4600e8de1a",
   "metadata": {},
   "source": [
    "# Capture single character using Reverse index, as per previous in Intro to Strings chapter."
   ]
  },
  {
   "cell_type": "code",
   "execution_count": 6,
   "id": "3d053fdc-09d7-4a90-a5f1-33062b17b222",
   "metadata": {},
   "outputs": [
    {
     "data": {
      "text/plain": [
       "'l'"
      ]
     },
     "execution_count": 6,
     "metadata": {},
     "output_type": "execute_result"
    }
   ],
   "source": [
    "# Example 1 : L is the character we grabing from strings with Reverse index. So H is 0 and D is -1, therefore L is -2.\n",
    "mystring[-2]"
   ]
  },
  {
   "cell_type": "code",
   "execution_count": 7,
   "id": "4067733a-60e0-4931-8d10-4dcb87862ae1",
   "metadata": {},
   "outputs": [
    {
     "data": {
      "text/plain": [
       "'r'"
      ]
     },
     "execution_count": 7,
     "metadata": {},
     "output_type": "execute_result"
    }
   ],
   "source": [
    "# Example 2 : r is the character we grabing from strings with Reverse index. So H is 0 and D is -1, therefore r is -3.\n",
    "mystring[-3]"
   ]
  },
  {
   "cell_type": "code",
   "execution_count": 8,
   "id": "207f027f-aea9-4084-8a53-9f0ee1b43cb8",
   "metadata": {},
   "outputs": [
    {
     "data": {
      "text/plain": [
       "'d'"
      ]
     },
     "execution_count": 8,
     "metadata": {},
     "output_type": "execute_result"
    }
   ],
   "source": [
    "# Example 3 : d is the character we grabing from strings with Reverse index. So H is 0 and D is -1, therefore d is -1.\n",
    "mystring[-1]"
   ]
  },
  {
   "attachments": {},
   "cell_type": "markdown",
   "id": "9983e171-7f33-45b4-bc12-ed036ad947cd",
   "metadata": {},
   "source": [
    "# Capture multiple character using slicing strings. [start:stop:step]\n"
   ]
  },
  {
   "cell_type": "code",
   "execution_count": 10,
   "id": "440cf9db-b6af-4633-b8c7-c6f22c915e50",
   "metadata": {},
   "outputs": [],
   "source": [
    "# Creating the mystring variable for slicing example.\n",
    "mystring = 'abcdefghijk'"
   ]
  },
  {
   "cell_type": "code",
   "execution_count": 11,
   "id": "2b6a938a-3886-4932-85a9-66f635d5315b",
   "metadata": {},
   "outputs": [
    {
     "data": {
      "text/plain": [
       "'abcdefghijk'"
      ]
     },
     "execution_count": 11,
     "metadata": {},
     "output_type": "execute_result"
    }
   ],
   "source": [
    "# Testing  to see mystring variable for slicing created successfully.\n",
    "mystring"
   ]
  },
  {
   "cell_type": "code",
   "execution_count": 12,
   "id": "436ee9e8-9c41-4b9c-91ec-37ef6ce764ac",
   "metadata": {},
   "outputs": [
    {
     "data": {
      "text/plain": [
       "'cdefghijk'"
      ]
     },
     "execution_count": 12,
     "metadata": {},
     "output_type": "execute_result"
    }
   ],
   "source": [
    "# Example 1 : Slicing \"c all the character till after end in mystring\" string using index. !!AFTER [START:STOP FORWARD]!!\n",
    "# So a is 0, b is 1, c is 2 and : is everything till end. \n",
    "# Therefore 2: is slicing.\n",
    "mystring[2:]"
   ]
  },
  {
   "cell_type": "code",
   "execution_count": 14,
   "id": "7a8a33c2-82c1-4c78-9e52-fa5bd8368ae1",
   "metadata": {},
   "outputs": [
    {
     "data": {
      "text/plain": [
       "'abc'"
      ]
     },
     "execution_count": 14,
     "metadata": {},
     "output_type": "execute_result"
    }
   ],
   "source": [
    "# Example 2 : Slicing \"c all the character before starting in mystring\" string using index. !!BEFORE [START:STOP BACKWARD]!!\n",
    "# So a is 0, b is 1, c is 2, d is 3 (it is also stop but do not include) and : is everything till starting. \n",
    "# Therefore just reverse :3 is slicing.\n",
    "mystring[:3]"
   ]
  },
  {
   "cell_type": "code",
   "execution_count": 15,
   "id": "84e6f0b4-c8e6-4d70-a5f7-4dc4281c733c",
   "metadata": {},
   "outputs": [
    {
     "data": {
      "text/plain": [
       "'def'"
      ]
     },
     "execution_count": 15,
     "metadata": {},
     "output_type": "execute_result"
    }
   ],
   "source": [
    "# Example 3 : Slicing \"'def' character only in mystring\" string using index . !!MIDDLE [START:STOP BUT NOT INCLUDE]!!\n",
    "# So a is 0, b is 1, c is 2, d is 3, e is 4, f is 5, g is 6  and : is everything in middle. Therefore just 3:6 is slicing.\n",
    "mystring[3:6]"
   ]
  },
  {
   "cell_type": "code",
   "execution_count": 16,
   "id": "a5c76e89-8775-4ef3-82fa-240c9784e67b",
   "metadata": {},
   "outputs": [
    {
     "data": {
      "text/plain": [
       "'bc'"
      ]
     },
     "execution_count": 16,
     "metadata": {},
     "output_type": "execute_result"
    }
   ],
   "source": [
    "# Example 4 : Slicing \"'bc' character only in mystring\" string using index . !!MIDDLE [START:STOP BUT NOT INCLUDE]!!\n",
    "# So a is 0, b is 1, c is 2, d is 3 and : is everything in middle. \n",
    "# Therefore just 1:3 is slicing.\n",
    "mystring[1:3]"
   ]
  },
  {
   "cell_type": "code",
   "execution_count": 17,
   "id": "c117ea2f-9a9f-4cb9-8e6e-babe2d7ac781",
   "metadata": {},
   "outputs": [
    {
     "data": {
      "text/plain": [
       "'abcdefghijk'"
      ]
     },
     "execution_count": 17,
     "metadata": {},
     "output_type": "execute_result"
    }
   ],
   "source": [
    "# Example 5 : Slicing with using everything. For Everything is ::\n",
    "mystring[::]"
   ]
  },
  {
   "cell_type": "code",
   "execution_count": 19,
   "id": "82ce96fd-1f48-4d92-97c4-fbeedf17a5b2",
   "metadata": {},
   "outputs": [
    {
     "data": {
      "text/plain": [
       "'acegik'"
      ]
     },
     "execution_count": 19,
     "metadata": {},
     "output_type": "execute_result"
    }
   ],
   "source": [
    "# Example 6 : Slicing with using everything and step size 2. For Everything is :: and step size 2, which is from left every 2nd one. \n",
    "# Therefore ::2 is slicing\n",
    "mystring[::2]"
   ]
  },
  {
   "cell_type": "code",
   "execution_count": 20,
   "id": "ad3972e4-7105-473e-bb78-6c13383b4d75",
   "metadata": {},
   "outputs": [
    {
     "data": {
      "text/plain": [
       "'adgj'"
      ]
     },
     "execution_count": 20,
     "metadata": {},
     "output_type": "execute_result"
    }
   ],
   "source": [
    "# Example 7 : Slicing with using everything and step size 3. For Everything is :: and step size 2, which is from left every 3rd one. \n",
    "# Therefore ::3 is slicing\n",
    "mystring[::3]"
   ]
  },
  {
   "cell_type": "code",
   "execution_count": 22,
   "id": "05d9f033-713c-402e-bd80-afb15f3196b1",
   "metadata": {},
   "outputs": [
    {
     "data": {
      "text/plain": [
       "'ceg'"
      ]
     },
     "execution_count": 22,
     "metadata": {},
     "output_type": "execute_result"
    }
   ],
   "source": [
    "# Example 6 : Slicing with using stop c, stop e but not f and step size g. !!START:STOP:STEPSIZE!!\n",
    "# For c is 2, :7 everything until e but not f and :2 is to jump every 2nd one. \n",
    "# Therefore 2:7:2 is slicing\n",
    "mystring[2:7:2]"
   ]
  },
  {
   "cell_type": "markdown",
   "id": "4a4b78f0-e73a-4158-b37a-0768cc8401de",
   "metadata": {},
   "source": [
    "# REVERSE STRINGS USING SLICING METHOD AND REVERSE INDEX."
   ]
  },
  {
   "cell_type": "code",
   "execution_count": 23,
   "id": "f6763919-c5e3-4f94-8072-d0cd37e20757",
   "metadata": {},
   "outputs": [
    {
     "data": {
      "text/plain": [
       "'kjihgfedcba'"
      ]
     },
     "execution_count": 23,
     "metadata": {},
     "output_type": "execute_result"
    }
   ],
   "source": [
    "# Example 1 : Reverse the string using REVESRSE INDEX.\n",
    "# For :: take everything from starting to ending and -1 is last character \"k\", 2nd last character -2 is j, so on in string counting backward.\n",
    "# Therefore ::-1 is slicing\n",
    "mystring[::-1]"
   ]
  }
 ],
 "metadata": {
  "kernelspec": {
   "display_name": "Python 3 (ipykernel)",
   "language": "python",
   "name": "python3"
  },
  "language_info": {
   "codemirror_mode": {
    "name": "ipython",
    "version": 3
   },
   "file_extension": ".py",
   "mimetype": "text/x-python",
   "name": "python",
   "nbconvert_exporter": "python",
   "pygments_lexer": "ipython3",
   "version": "3.11.7"
  }
 },
 "nbformat": 4,
 "nbformat_minor": 5
}
