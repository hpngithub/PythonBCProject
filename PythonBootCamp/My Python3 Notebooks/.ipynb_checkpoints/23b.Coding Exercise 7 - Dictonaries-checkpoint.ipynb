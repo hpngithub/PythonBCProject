{
 "cells": [
  {
   "cell_type": "markdown",
   "id": "0e28dbd8-01cc-499b-a6c7-7cd102e5197d",
   "metadata": {},
   "source": [
    "# Dictionaries\n",
    "\n",
    "Create a dictionary where all the keys are strings, and all the values are integers.\n",
    "\n",
    "For example:\n",
    "\n",
    "{'Monday':19, 'Tuesday':20}\n",
    "\n",
    "Just write the dictionary on a single line, don't assign a variable name to the dictionary."
   ]
  },
  {
   "cell_type": "code",
   "execution_count": null,
   "id": "d032bb73-ee63-48d8-bb9b-5770820d1206",
   "metadata": {},
   "outputs": [],
   "source": [
    "{'Wednesday':22,'Thursday':23}"
   ]
  }
 ],
 "metadata": {
  "kernelspec": {
   "display_name": "Python 3 (ipykernel)",
   "language": "python",
   "name": "python3"
  },
  "language_info": {
   "codemirror_mode": {
    "name": "ipython",
    "version": 3
   },
   "file_extension": ".py",
   "mimetype": "text/x-python",
   "name": "python",
   "nbconvert_exporter": "python",
   "pygments_lexer": "ipython3",
   "version": "3.11.7"
  }
 },
 "nbformat": 4,
 "nbformat_minor": 5
}
