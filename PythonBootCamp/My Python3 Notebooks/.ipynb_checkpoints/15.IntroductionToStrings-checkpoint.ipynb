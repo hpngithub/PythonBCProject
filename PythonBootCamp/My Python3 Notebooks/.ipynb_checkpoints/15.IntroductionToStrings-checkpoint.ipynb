{
 "cells": [
  {
   "cell_type": "markdown",
   "id": "9312b463-2da9-486d-b029-17a3a1c95c80",
   "metadata": {},
   "source": [
    "# String output to return raw result. \n",
    "*__Note : below is where you see single or double quote.__*"
   ]
  },
  {
   "cell_type": "code",
   "execution_count": 2,
   "id": "3857739c-2e42-4167-8e57-51c76f588ac1",
   "metadata": {},
   "outputs": [
    {
     "data": {
      "text/plain": [
       "'hello'"
      ]
     },
     "execution_count": 2,
     "metadata": {},
     "output_type": "execute_result"
    }
   ],
   "source": [
    "# Example of single quote string\n",
    "'hello'"
   ]
  },
  {
   "cell_type": "code",
   "execution_count": 3,
   "id": "d89d5162-ec76-4af8-b8f2-7fcda9a08899",
   "metadata": {},
   "outputs": [
    {
     "data": {
      "text/plain": [
       "'world'"
      ]
     },
     "execution_count": 3,
     "metadata": {},
     "output_type": "execute_result"
    }
   ],
   "source": [
    "# Example of double quote string\n",
    "\"world\""
   ]
  },
  {
   "cell_type": "code",
   "execution_count": 4,
   "id": "9eea6d19-a917-4840-98d0-3674720e9caa",
   "metadata": {},
   "outputs": [
    {
     "data": {
      "text/plain": [
       "'this is also a string'"
      ]
     },
     "execution_count": 4,
     "metadata": {},
     "output_type": "execute_result"
    }
   ],
   "source": [
    "# Example of  single quote whole phrase string. Note: White space in phrase count as characters in string.\n",
    "'this is also a string'"
   ]
  },
  {
   "cell_type": "code",
   "execution_count": 5,
   "id": "a1f18dd0-a4e8-4824-b750-661a4578442d",
   "metadata": {},
   "outputs": [
    {
     "ename": "SyntaxError",
     "evalue": "unterminated string literal (detected at line 2) (4214703178.py, line 2)",
     "output_type": "error",
     "traceback": [
      "\u001b[0;36m  Cell \u001b[0;32mIn[5], line 2\u001b[0;36m\u001b[0m\n\u001b[0;31m    ' I'm going on a run'\u001b[0m\n\u001b[0m                        ^\u001b[0m\n\u001b[0;31mSyntaxError\u001b[0m\u001b[0;31m:\u001b[0m unterminated string literal (detected at line 2)\n"
     ]
    }
   ],
   "source": [
    "# Mixing Single and Double quote : Incorrect way confusion for python.\n",
    "' I'm going on a run'"
   ]
  },
  {
   "cell_type": "code",
   "execution_count": 6,
   "id": "87fa426c-5dd0-4504-a6b0-d780eb17d108",
   "metadata": {},
   "outputs": [
    {
     "data": {
      "text/plain": [
       "\" I'm going on a run \""
      ]
     },
     "execution_count": 6,
     "metadata": {},
     "output_type": "execute_result"
    }
   ],
   "source": [
    "# Mixing Single and Double quote : Correct way no confusion for python.\n",
    "\" I'm going on a run \""
   ]
  },
  {
   "cell_type": "markdown",
   "id": "02dba0f5-071d-4b39-ad45-5499c195c13c",
   "metadata": {},
   "source": [
    "# Print Output to return only result. \n",
    "*__Note : below is you will not going to see single or double quote.__*"
   ]
  },
  {
   "cell_type": "code",
   "execution_count": 7,
   "id": "f51aab9e-3070-437c-b183-3df013789ec7",
   "metadata": {},
   "outputs": [
    {
     "name": "stdout",
     "output_type": "stream",
     "text": [
      "hello\n"
     ]
    }
   ],
   "source": [
    "print(\"hello\")"
   ]
  },
  {
   "cell_type": "code",
   "execution_count": 8,
   "id": "3bfa4561-5675-4c12-9b83-1e2160ec519d",
   "metadata": {},
   "outputs": [
    {
     "data": {
      "text/plain": [
       "'hello word two'"
      ]
     },
     "execution_count": 8,
     "metadata": {},
     "output_type": "execute_result"
    }
   ],
   "source": [
    "# Example of multiple phrase string output only one string.\n",
    "\"hello word one\"\n",
    "\"hello word two\""
   ]
  },
  {
   "cell_type": "code",
   "execution_count": 9,
   "id": "277ec70c-cd38-41bf-8a38-02335e8c0fb7",
   "metadata": {},
   "outputs": [
    {
     "name": "stdout",
     "output_type": "stream",
     "text": [
      "hello word one\n",
      "hello word two\n"
     ]
    }
   ],
   "source": [
    "# Example of multiple phrase string output all string, due to usage of print functions.\n",
    "print (\"hello word one\")\n",
    "print (\"hello word two\")"
   ]
  },
  {
   "cell_type": "code",
   "execution_count": 10,
   "id": "6cb464cc-c9b7-4d21-9b0d-1429a2e5478c",
   "metadata": {},
   "outputs": [
    {
     "name": "stdout",
     "output_type": "stream",
     "text": [
      "hello \n",
      " world\n"
     ]
    }
   ],
   "source": [
    "# Example of \\n function usage, which is pressing enter button to start new line. Note: between \\n and world is space.\n",
    "print ('hello \\n world')"
   ]
  },
  {
   "cell_type": "code",
   "execution_count": 11,
   "id": "e32f430f-8edb-4167-8d66-3bbb019d178e",
   "metadata": {},
   "outputs": [
    {
     "name": "stdout",
     "output_type": "stream",
     "text": [
      "hello \n",
      "world\n"
     ]
    }
   ],
   "source": [
    "# Example of \\n function usage as list, which is pressing enter button to start new line and listing word. Note: between \\n and world is no space.\n",
    "print ('hello \\nworld')"
   ]
  },
  {
   "cell_type": "code",
   "execution_count": 12,
   "id": "2420fad8-f767-46c0-a85e-3e186a2752c9",
   "metadata": {},
   "outputs": [
    {
     "name": "stdout",
     "output_type": "stream",
     "text": [
      "hello \tworld\n"
     ]
    }
   ],
   "source": [
    "# Example of \\t function, which is pressing tab button.\n",
    "print ('hello \\tworld')"
   ]
  },
  {
   "cell_type": "code",
   "execution_count": 13,
   "id": "12f5278e-a554-492a-aa8d-515455f180bd",
   "metadata": {},
   "outputs": [
    {
     "data": {
      "text/plain": [
       "5"
      ]
     },
     "execution_count": 13,
     "metadata": {},
     "output_type": "execute_result"
    }
   ],
   "source": [
    "# Example 1 of len function, which provide the number of character in string.\n",
    "len('hello')"
   ]
  },
  {
   "cell_type": "code",
   "execution_count": 14,
   "id": "059089dd-4466-4d81-9c6f-75742cb655c3",
   "metadata": {},
   "outputs": [
    {
     "data": {
      "text/plain": [
       "4"
      ]
     },
     "execution_count": 14,
     "metadata": {},
     "output_type": "execute_result"
    }
   ],
   "source": [
    "# Example 2 of len function, which provide the number of character in string.\n",
    "len('I am')"
   ]
  }
 ],
 "metadata": {
  "kernelspec": {
   "display_name": "Python 3 (ipykernel)",
   "language": "python",
   "name": "python3"
  },
  "language_info": {
   "codemirror_mode": {
    "name": "ipython",
    "version": 3
   },
   "file_extension": ".py",
   "mimetype": "text/x-python",
   "name": "python",
   "nbconvert_exporter": "python",
   "pygments_lexer": "ipython3",
   "version": "3.11.7"
  }
 },
 "nbformat": 4,
 "nbformat_minor": 5
}
