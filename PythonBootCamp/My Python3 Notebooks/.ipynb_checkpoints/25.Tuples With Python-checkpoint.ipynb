{
 "cells": [
  {
   "cell_type": "markdown",
   "id": "5ab0061d-1e3d-4907-8f71-9003486b6c5c",
   "metadata": {},
   "source": [
    "### Creating and Findout Tuple\n",
    "*Note: We learn to create Tuple and recoganize what is tuple or list.*"
   ]
  },
  {
   "cell_type": "code",
   "execution_count": 4,
   "id": "a570d83f-e2d7-4a81-bf1d-90c460697d29",
   "metadata": {},
   "outputs": [],
   "source": [
    "# Create Tuple\n",
    "t = (1,2,3)"
   ]
  },
  {
   "cell_type": "code",
   "execution_count": 2,
   "id": "c663b06d-bd53-45e3-9227-a1e5515206c7",
   "metadata": {},
   "outputs": [],
   "source": [
    "# Create List\n",
    "mylist = [1,2,3]"
   ]
  },
  {
   "cell_type": "code",
   "execution_count": 5,
   "id": "18ced1de-922f-47b7-8f84-6c09679db9a3",
   "metadata": {},
   "outputs": [
    {
     "data": {
      "text/plain": [
       "tuple"
      ]
     },
     "execution_count": 5,
     "metadata": {},
     "output_type": "execute_result"
    }
   ],
   "source": [
    "# Check if 't' is tuple\n",
    "type(t)"
   ]
  },
  {
   "cell_type": "code",
   "execution_count": 6,
   "id": "a29af806-6818-4d2c-ae41-b05c74b76776",
   "metadata": {},
   "outputs": [
    {
     "data": {
      "text/plain": [
       "list"
      ]
     },
     "execution_count": 6,
     "metadata": {},
     "output_type": "execute_result"
    }
   ],
   "source": [
    "# of 'mylist' is list\n",
    "type(mylist)"
   ]
  },
  {
   "cell_type": "markdown",
   "id": "31428946-2782-4efe-9bf8-4fac2715c5ee",
   "metadata": {},
   "source": [
    "### Check the lenght of Tuple"
   ]
  },
  {
   "cell_type": "code",
   "execution_count": 7,
   "id": "31d01a3b-58a0-42f2-9f6d-f739c46813cd",
   "metadata": {},
   "outputs": [
    {
     "data": {
      "text/plain": [
       "(1, 2, 3)"
      ]
     },
     "execution_count": 7,
     "metadata": {},
     "output_type": "execute_result"
    }
   ],
   "source": [
    "# Check to see 't' of tuple\n",
    "t"
   ]
  },
  {
   "cell_type": "code",
   "execution_count": 8,
   "id": "f84e4de5-d1b3-4c96-bf9e-509baee3da35",
   "metadata": {},
   "outputs": [
    {
     "data": {
      "text/plain": [
       "3"
      ]
     },
     "execution_count": 8,
     "metadata": {},
     "output_type": "execute_result"
    }
   ],
   "source": [
    "# Check the lenght of tuple 't', as it have 3 elements\n",
    "len(t)"
   ]
  },
  {
   "cell_type": "markdown",
   "id": "ebfb072c-38ba-4e9d-8f62-6721b88d049b",
   "metadata": {},
   "source": [
    "### Create a Mix Object of Tuple"
   ]
  },
  {
   "cell_type": "code",
   "execution_count": 9,
   "id": "f9a10eb3-3964-4a98-b4d3-11a116b940d4",
   "metadata": {},
   "outputs": [],
   "source": [
    "# Create Tuple with Mix Object\n",
    "t = ('one',2)"
   ]
  },
  {
   "cell_type": "code",
   "execution_count": 10,
   "id": "6433730d-2821-4d27-b304-745657995a78",
   "metadata": {},
   "outputs": [
    {
     "data": {
      "text/plain": [
       "('one', 2)"
      ]
     },
     "execution_count": 10,
     "metadata": {},
     "output_type": "execute_result"
    }
   ],
   "source": [
    "# Test the Tuple with Mix Object\n",
    "t"
   ]
  },
  {
   "cell_type": "markdown",
   "id": "6e471e5d-2f61-444f-899f-b978710c03ed",
   "metadata": {},
   "source": [
    "### Grabing the Elements from Tuple"
   ]
  },
  {
   "cell_type": "code",
   "execution_count": 11,
   "id": "586bf6a8-233b-49b9-a732-2737c818745f",
   "metadata": {},
   "outputs": [
    {
     "data": {
      "text/plain": [
       "('one', 2)"
      ]
     },
     "execution_count": 11,
     "metadata": {},
     "output_type": "execute_result"
    }
   ],
   "source": [
    "# Check created Tuple\n",
    "t"
   ]
  },
  {
   "cell_type": "code",
   "execution_count": 12,
   "id": "da32ad33-19b2-4bd9-9429-4374efc53236",
   "metadata": {},
   "outputs": [
    {
     "data": {
      "text/plain": [
       "'one'"
      ]
     },
     "execution_count": 12,
     "metadata": {},
     "output_type": "execute_result"
    }
   ],
   "source": [
    "# Grabing the Elements from Tuple : One way\n",
    "# Note : In this we grabbing 'one' elements\n",
    "t[0]"
   ]
  },
  {
   "cell_type": "code",
   "execution_count": 13,
   "id": "453d25da-230c-4d82-b225-af5622303c80",
   "metadata": {},
   "outputs": [
    {
     "data": {
      "text/plain": [
       "2"
      ]
     },
     "execution_count": 13,
     "metadata": {},
     "output_type": "execute_result"
    }
   ],
   "source": [
    "# Grabing the Elements from Tuple : Secound way\n",
    "# Note : In this we grabbing '2' elements, as 'one' is 0 and '2' is 1 as per index. So we can also use -1 for '2'.\n",
    "t[-1]"
   ]
  },
  {
   "cell_type": "markdown",
   "id": "c483cfdc-fd64-485f-965c-edf224489c75",
   "metadata": {},
   "source": [
    "### Index and Counting Method for Tuple"
   ]
  },
  {
   "cell_type": "code",
   "execution_count": 14,
   "id": "066ac6a9-18c0-4a46-b5bf-da0086516626",
   "metadata": {},
   "outputs": [],
   "source": [
    "# Creating the Tuple.\n",
    "t = ('a', 'a','b')"
   ]
  },
  {
   "cell_type": "code",
   "execution_count": 15,
   "id": "fb0c4b97-cb5c-411b-bce6-b666ec0484b0",
   "metadata": {},
   "outputs": [
    {
     "data": {
      "text/plain": [
       "('a', 'a', 'b')"
      ]
     },
     "execution_count": 15,
     "metadata": {},
     "output_type": "execute_result"
    }
   ],
   "source": [
    "# Testing the Tuple\n",
    "t"
   ]
  },
  {
   "cell_type": "code",
   "execution_count": null,
   "id": "d6ed0137-1288-4bda-bace-ae4c7b5ef6bf",
   "metadata": {},
   "outputs": [],
   "source": []
  }
 ],
 "metadata": {
  "kernelspec": {
   "display_name": "Python 3 (ipykernel)",
   "language": "python",
   "name": "python3"
  },
  "language_info": {
   "codemirror_mode": {
    "name": "ipython",
    "version": 3
   },
   "file_extension": ".py",
   "mimetype": "text/x-python",
   "name": "python",
   "nbconvert_exporter": "python",
   "pygments_lexer": "ipython3",
   "version": "3.11.7"
  }
 },
 "nbformat": 4,
 "nbformat_minor": 5
}
