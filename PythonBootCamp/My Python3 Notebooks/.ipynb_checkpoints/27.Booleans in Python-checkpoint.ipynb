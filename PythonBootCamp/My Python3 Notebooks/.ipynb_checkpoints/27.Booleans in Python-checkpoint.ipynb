{
 "cells": [
  {
   "cell_type": "markdown",
   "id": "5b9e558b-032c-4518-9b91-ddd3761bcaf6",
   "metadata": {},
   "source": [
    "### Booleans with Capitalization\n",
    "*Note: It only work with Capitalization. Also funciton is 'True' & 'False'*"
   ]
  },
  {
   "cell_type": "code",
   "execution_count": 1,
   "id": "2e8ba0ab-806a-4d70-b17e-0169dbe63bd9",
   "metadata": {},
   "outputs": [
    {
     "ename": "NameError",
     "evalue": "name 'true' is not defined",
     "output_type": "error",
     "traceback": [
      "\u001b[0;31m---------------------------------------------------------------------------\u001b[0m",
      "\u001b[0;31mNameError\u001b[0m                                 Traceback (most recent call last)",
      "Cell \u001b[0;32mIn[1], line 3\u001b[0m\n\u001b[1;32m      1\u001b[0m \u001b[38;5;66;03m# True Without Capitalzation\u001b[39;00m\n\u001b[1;32m      2\u001b[0m \u001b[38;5;66;03m# Note: It should give error\u001b[39;00m\n\u001b[0;32m----> 3\u001b[0m true\n",
      "\u001b[0;31mNameError\u001b[0m: name 'true' is not defined"
     ]
    }
   ],
   "source": [
    "# True Without Capitalzation\n",
    "# Note: It should give error\n",
    "true"
   ]
  },
  {
   "cell_type": "code",
   "execution_count": 2,
   "id": "fbc2d49d-a325-428e-95ca-351ac587e2c3",
   "metadata": {},
   "outputs": [
    {
     "data": {
      "text/plain": [
       "True"
      ]
     },
     "execution_count": 2,
     "metadata": {},
     "output_type": "execute_result"
    }
   ],
   "source": [
    "# True With Capitalzation\n",
    "# Note: It should not give error\n",
    "True"
   ]
  },
  {
   "cell_type": "code",
   "execution_count": 3,
   "id": "5ed3d9a4-4a95-473d-a7f1-c3d8bd606378",
   "metadata": {},
   "outputs": [
    {
     "ename": "NameError",
     "evalue": "name 'false' is not defined",
     "output_type": "error",
     "traceback": [
      "\u001b[0;31m---------------------------------------------------------------------------\u001b[0m",
      "\u001b[0;31mNameError\u001b[0m                                 Traceback (most recent call last)",
      "Cell \u001b[0;32mIn[3], line 3\u001b[0m\n\u001b[1;32m      1\u001b[0m \u001b[38;5;66;03m# False Without Capitalzation\u001b[39;00m\n\u001b[1;32m      2\u001b[0m \u001b[38;5;66;03m# Note: It should give error\u001b[39;00m\n\u001b[0;32m----> 3\u001b[0m false\n",
      "\u001b[0;31mNameError\u001b[0m: name 'false' is not defined"
     ]
    }
   ],
   "source": [
    "# False Without Capitalzation\n",
    "# Note: It should give error\n",
    "false"
   ]
  },
  {
   "cell_type": "code",
   "execution_count": 4,
   "id": "cfa05567-fc34-4e41-be4a-f6ed257dacef",
   "metadata": {},
   "outputs": [
    {
     "data": {
      "text/plain": [
       "False"
      ]
     },
     "execution_count": 4,
     "metadata": {},
     "output_type": "execute_result"
    }
   ],
   "source": [
    "# False With Capitalzation\n",
    "# Note: It should not give error\n",
    "False"
   ]
  },
  {
   "cell_type": "markdown",
   "id": "39a86dbf-8108-4c30-8659-001cc189a00b",
   "metadata": {},
   "source": [
    "### True and False is Booleans\n",
    "*Note: Below is the way to confirm True and False is Booleans*"
   ]
  },
  {
   "cell_type": "code",
   "execution_count": 5,
   "id": "0ada6426-fa85-40de-bc52-b7a5a25ca4a1",
   "metadata": {},
   "outputs": [
    {
     "data": {
      "text/plain": [
       "bool"
      ]
     },
     "execution_count": 5,
     "metadata": {},
     "output_type": "execute_result"
    }
   ],
   "source": [
    "# Check for True\n",
    "type(True)"
   ]
  },
  {
   "cell_type": "code",
   "execution_count": 6,
   "id": "92a5de77-77dc-4fbb-9913-2d76cd2ecbc1",
   "metadata": {},
   "outputs": [
    {
     "data": {
      "text/plain": [
       "bool"
      ]
     },
     "execution_count": 6,
     "metadata": {},
     "output_type": "execute_result"
    }
   ],
   "source": [
    "# Check for False\n",
    "type(False)"
   ]
  },
  {
   "cell_type": "markdown",
   "id": "2d565c80-8613-4c59-a394-9e7b091ffffc",
   "metadata": {},
   "source": [
    "### Booleans 'True' or 'False showing result of Comparison Operators.\n",
    "*Note : Basically code is True or False.*"
   ]
  },
  {
   "cell_type": "code",
   "execution_count": null,
   "id": "26c7bf50-bde0-4c42-aab9-9a0e9fa40161",
   "metadata": {},
   "outputs": [],
   "source": []
  }
 ],
 "metadata": {
  "kernelspec": {
   "display_name": "Python 3 (ipykernel)",
   "language": "python",
   "name": "python3"
  },
  "language_info": {
   "codemirror_mode": {
    "name": "ipython",
    "version": 3
   },
   "file_extension": ".py",
   "mimetype": "text/x-python",
   "name": "python",
   "nbconvert_exporter": "python",
   "pygments_lexer": "ipython3",
   "version": "3.11.7"
  }
 },
 "nbformat": 4,
 "nbformat_minor": 5
}
