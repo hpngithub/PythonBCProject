{
 "cells": [
  {
   "cell_type": "markdown",
   "id": "5ab0061d-1e3d-4907-8f71-9003486b6c5c",
   "metadata": {},
   "source": [
    "### Creating and Findout Tuple\n",
    "*Note: We learn to create Tuple and recoganize what is tuple or list.*"
   ]
  },
  {
   "cell_type": "code",
   "execution_count": 4,
   "id": "a570d83f-e2d7-4a81-bf1d-90c460697d29",
   "metadata": {},
   "outputs": [],
   "source": [
    "# Create Tuple\n",
    "t = (1,2,3)"
   ]
  },
  {
   "cell_type": "code",
   "execution_count": 2,
   "id": "c663b06d-bd53-45e3-9227-a1e5515206c7",
   "metadata": {},
   "outputs": [],
   "source": [
    "# Create List\n",
    "mylist = [1,2,3]"
   ]
  },
  {
   "cell_type": "code",
   "execution_count": 5,
   "id": "18ced1de-922f-47b7-8f84-6c09679db9a3",
   "metadata": {},
   "outputs": [
    {
     "data": {
      "text/plain": [
       "tuple"
      ]
     },
     "execution_count": 5,
     "metadata": {},
     "output_type": "execute_result"
    }
   ],
   "source": [
    "# Check if 't' is tuple\n",
    "type(t)"
   ]
  },
  {
   "cell_type": "code",
   "execution_count": 6,
   "id": "a29af806-6818-4d2c-ae41-b05c74b76776",
   "metadata": {},
   "outputs": [
    {
     "data": {
      "text/plain": [
       "list"
      ]
     },
     "execution_count": 6,
     "metadata": {},
     "output_type": "execute_result"
    }
   ],
   "source": [
    "# of 'mylist' is list\n",
    "type(mylist)"
   ]
  },
  {
   "cell_type": "markdown",
   "id": "31428946-2782-4efe-9bf8-4fac2715c5ee",
   "metadata": {},
   "source": [
    "### Check the lenght of Tuple"
   ]
  },
  {
   "cell_type": "code",
   "execution_count": 7,
   "id": "31d01a3b-58a0-42f2-9f6d-f739c46813cd",
   "metadata": {},
   "outputs": [
    {
     "data": {
      "text/plain": [
       "(1, 2, 3)"
      ]
     },
     "execution_count": 7,
     "metadata": {},
     "output_type": "execute_result"
    }
   ],
   "source": [
    "# Check to see 't' of tuple\n",
    "t"
   ]
  },
  {
   "cell_type": "code",
   "execution_count": 8,
   "id": "f84e4de5-d1b3-4c96-bf9e-509baee3da35",
   "metadata": {},
   "outputs": [
    {
     "data": {
      "text/plain": [
       "3"
      ]
     },
     "execution_count": 8,
     "metadata": {},
     "output_type": "execute_result"
    }
   ],
   "source": [
    "# Check the lenght of tuple 't', as it have 3 elements\n",
    "len(t)"
   ]
  },
  {
   "cell_type": "markdown",
   "id": "ebfb072c-38ba-4e9d-8f62-6721b88d049b",
   "metadata": {},
   "source": [
    "### Create a Mix Object of Tuple"
   ]
  },
  {
   "cell_type": "code",
   "execution_count": 9,
   "id": "f9a10eb3-3964-4a98-b4d3-11a116b940d4",
   "metadata": {},
   "outputs": [],
   "source": [
    "# Create Tuple with Mix Object\n",
    "t = ('one',2)"
   ]
  },
  {
   "cell_type": "code",
   "execution_count": 10,
   "id": "6433730d-2821-4d27-b304-745657995a78",
   "metadata": {},
   "outputs": [
    {
     "data": {
      "text/plain": [
       "('one', 2)"
      ]
     },
     "execution_count": 10,
     "metadata": {},
     "output_type": "execute_result"
    }
   ],
   "source": [
    "# Test the Tuple with Mix Object\n",
    "t"
   ]
  },
  {
   "cell_type": "markdown",
   "id": "6e471e5d-2f61-444f-899f-b978710c03ed",
   "metadata": {},
   "source": [
    "### Grabing the Elements from Tuple"
   ]
  },
  {
   "cell_type": "code",
   "execution_count": 11,
   "id": "586bf6a8-233b-49b9-a732-2737c818745f",
   "metadata": {},
   "outputs": [
    {
     "data": {
      "text/plain": [
       "('one', 2)"
      ]
     },
     "execution_count": 11,
     "metadata": {},
     "output_type": "execute_result"
    }
   ],
   "source": [
    "# Check created Tuple\n",
    "t"
   ]
  },
  {
   "cell_type": "code",
   "execution_count": 12,
   "id": "da32ad33-19b2-4bd9-9429-4374efc53236",
   "metadata": {},
   "outputs": [
    {
     "data": {
      "text/plain": [
       "'one'"
      ]
     },
     "execution_count": 12,
     "metadata": {},
     "output_type": "execute_result"
    }
   ],
   "source": [
    "# Grabing the Elements from Tuple : One way\n",
    "# Note : In this we grabbing 'one' elements\n",
    "t[0]"
   ]
  },
  {
   "cell_type": "code",
   "execution_count": 13,
   "id": "453d25da-230c-4d82-b225-af5622303c80",
   "metadata": {},
   "outputs": [
    {
     "data": {
      "text/plain": [
       "2"
      ]
     },
     "execution_count": 13,
     "metadata": {},
     "output_type": "execute_result"
    }
   ],
   "source": [
    "# Grabing the Elements from Tuple : Secound way\n",
    "# Note : In this we grabbing '2' elements, as 'one' is 0 and '2' is 1 as per index. So we can also use -1 for '2'.\n",
    "t[-1]"
   ]
  },
  {
   "cell_type": "markdown",
   "id": "c483cfdc-fd64-485f-965c-edf224489c75",
   "metadata": {},
   "source": [
    "### Index and Counting Method for Tuple"
   ]
  },
  {
   "cell_type": "code",
   "execution_count": 14,
   "id": "066ac6a9-18c0-4a46-b5bf-da0086516626",
   "metadata": {},
   "outputs": [],
   "source": [
    "# Creating the Tuple.\n",
    "t = ('a', 'a','b')"
   ]
  },
  {
   "cell_type": "code",
   "execution_count": 15,
   "id": "fb0c4b97-cb5c-411b-bce6-b666ec0484b0",
   "metadata": {},
   "outputs": [
    {
     "data": {
      "text/plain": [
       "('a', 'a', 'b')"
      ]
     },
     "execution_count": 15,
     "metadata": {},
     "output_type": "execute_result"
    }
   ],
   "source": [
    "# Testing the Tuple\n",
    "t"
   ]
  },
  {
   "cell_type": "code",
   "execution_count": 16,
   "id": "d6ed0137-1288-4bda-bace-ae4c7b5ef6bf",
   "metadata": {},
   "outputs": [
    {
     "data": {
      "text/plain": [
       "2"
      ]
     },
     "execution_count": 16,
     "metadata": {},
     "output_type": "execute_result"
    }
   ],
   "source": [
    "# Counting number of 'a' elements in tuple.\n",
    "# Note : In ('a','a','b') tuple it have 2 'a' and we going to use (.)dot + TAB in keyboard, then selecting 'count' with ().\n",
    "t.count('a')"
   ]
  },
  {
   "cell_type": "code",
   "execution_count": 17,
   "id": "5dcdc3ad-9ba2-4219-95ad-7b817912e2a2",
   "metadata": {},
   "outputs": [
    {
     "data": {
      "text/plain": [
       "0"
      ]
     },
     "execution_count": 17,
     "metadata": {},
     "output_type": "execute_result"
    }
   ],
   "source": [
    "# Example 1 : Indexing text 'a' elements in tuple.\n",
    "# Note1 : In ('a','a','b') tuple, there is first 'a' is 0 and secound 'a' is 1. Therefore use automatically first one.\n",
    "# Note2 :  So use the (.)dot + TAB in keyboard, then selecting 'index' with ().\n",
    "t.index('a')"
   ]
  },
  {
   "cell_type": "code",
   "execution_count": 18,
   "id": "77e3db83-13cb-4b12-9cff-74fc25bea5d1",
   "metadata": {},
   "outputs": [
    {
     "data": {
      "text/plain": [
       "2"
      ]
     },
     "execution_count": 18,
     "metadata": {},
     "output_type": "execute_result"
    }
   ],
   "source": [
    "# Example 2 : Indexing text 'b' elements in tuple.\n",
    "# Note1 : In ('a','a','b') tuple, there is first 'a' is 0, secound 'a' is 1 and 'b' is 2. Also if there is multple 'b' it will choose firstone.\n",
    "# Note2 :  So use the (.)dot + TAB in keyboard, then selecting 'index' with ().\n",
    "t.index('b')"
   ]
  },
  {
   "cell_type": "markdown",
   "id": "6da5fde4-cd8a-48a4-af37-5b8659fd2981",
   "metadata": {},
   "source": [
    "### Immutablity in Tuple\n",
    "*Note : Immutablity mean not changeable. Also Advanced Programmer use tuple in python to prevent accidently change to object that passed around in program. Where help provide data integrity* "
   ]
  },
  {
   "cell_type": "code",
   "execution_count": 19,
   "id": "a8090153-92cf-4248-b42d-dae40982ec95",
   "metadata": {},
   "outputs": [
    {
     "data": {
      "text/plain": [
       "('a', 'a', 'b')"
      ]
     },
     "execution_count": 19,
     "metadata": {},
     "output_type": "execute_result"
    }
   ],
   "source": [
    "# Check the Tuple\n",
    "t"
   ]
  },
  {
   "cell_type": "code",
   "execution_count": 20,
   "id": "c2fdce94-9b89-4f98-9a63-b27cb362e5f2",
   "metadata": {},
   "outputs": [
    {
     "data": {
      "text/plain": [
       "[1, 2, 3]"
      ]
     },
     "execution_count": 20,
     "metadata": {},
     "output_type": "execute_result"
    }
   ],
   "source": [
    "# Check the mylist\n",
    "mylist"
   ]
  },
  {
   "cell_type": "code",
   "execution_count": 21,
   "id": "70634d79-7bc8-4e87-b285-b13265ea69dc",
   "metadata": {},
   "outputs": [],
   "source": [
    "# Reassign the first letter '1' to 'New' in mylist.\n",
    "mylist[0] = 'NEW'"
   ]
  },
  {
   "cell_type": "code",
   "execution_count": 22,
   "id": "5338dc55-4a15-40f8-bd83-6b6fad87f876",
   "metadata": {},
   "outputs": [
    {
     "data": {
      "text/plain": [
       "['NEW', 2, 3]"
      ]
     },
     "execution_count": 22,
     "metadata": {},
     "output_type": "execute_result"
    }
   ],
   "source": [
    "# Check the mylist again\n",
    "mylist"
   ]
  },
  {
   "cell_type": "code",
   "execution_count": 23,
   "id": "a58c35b4-03ec-41bd-906f-b136fb9b15a6",
   "metadata": {},
   "outputs": [
    {
     "ename": "TypeError",
     "evalue": "'tuple' object does not support item assignment",
     "output_type": "error",
     "traceback": [
      "\u001b[0;31m---------------------------------------------------------------------------\u001b[0m",
      "\u001b[0;31mTypeError\u001b[0m                                 Traceback (most recent call last)",
      "Cell \u001b[0;32mIn[23], line 3\u001b[0m\n\u001b[1;32m      1\u001b[0m \u001b[38;5;66;03m# Proof of Not Working Reassign in Tuple.\u001b[39;00m\n\u001b[1;32m      2\u001b[0m \u001b[38;5;66;03m# Note : You should see error that not supported. Which make different Tuple different from List.\u001b[39;00m\n\u001b[0;32m----> 3\u001b[0m t[\u001b[38;5;241m0\u001b[39m] \u001b[38;5;241m=\u001b[39m \u001b[38;5;124m'\u001b[39m\u001b[38;5;124mNEW\u001b[39m\u001b[38;5;124m'\u001b[39m\n",
      "\u001b[0;31mTypeError\u001b[0m: 'tuple' object does not support item assignment"
     ]
    }
   ],
   "source": [
    "# Proof of Not Working Reassign in Tuple.\n",
    "# Note : You should see error that not supported. Which make different Tuple different from List.\n",
    "t[0] = 'NEW'"
   ]
  }
 ],
 "metadata": {
  "kernelspec": {
   "display_name": "Python 3 (ipykernel)",
   "language": "python",
   "name": "python3"
  },
  "language_info": {
   "codemirror_mode": {
    "name": "ipython",
    "version": 3
   },
   "file_extension": ".py",
   "mimetype": "text/x-python",
   "name": "python",
   "nbconvert_exporter": "python",
   "pygments_lexer": "ipython3",
   "version": "3.11.7"
  }
 },
 "nbformat": 4,
 "nbformat_minor": 5
}
