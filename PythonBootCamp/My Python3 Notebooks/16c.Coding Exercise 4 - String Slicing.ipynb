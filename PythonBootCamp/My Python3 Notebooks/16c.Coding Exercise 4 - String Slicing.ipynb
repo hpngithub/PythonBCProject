{
 "cells": [
  {
   "cell_type": "markdown",
   "id": "476c16c8-6d4b-40e7-a3eb-590a4b94c35b",
   "metadata": {},
   "source": [
    "# String Slicing\n",
    "\n",
    "Use string slicing to grab the word `'ink'`  from inside `'tinker'`\n",
    "\n",
    "For example, `'education'[3:6]`  returns `'cat'`\n",
    "\n",
    "Remember that when slicing you only go up to *but not including* the end index.\n",
    "\n",
    "You should only write one line of code for this. Do not assign a variable name to the string.String Slicing"
   ]
  },
  {
   "cell_type": "code",
   "execution_count": 1,
   "id": "f657009a-cd09-43d7-8219-c1d75e8a110c",
   "metadata": {},
   "outputs": [
    {
     "data": {
      "text/plain": [
       "'ink'"
      ]
     },
     "execution_count": 1,
     "metadata": {},
     "output_type": "execute_result"
    }
   ],
   "source": [
    "'tinker' [1:4]"
   ]
  }
 ],
 "metadata": {
  "kernelspec": {
   "display_name": "Python 3 (ipykernel)",
   "language": "python",
   "name": "python3"
  },
  "language_info": {
   "codemirror_mode": {
    "name": "ipython",
    "version": 3
   },
   "file_extension": ".py",
   "mimetype": "text/x-python",
   "name": "python",
   "nbconvert_exporter": "python",
   "pygments_lexer": "ipython3",
   "version": "3.11.7"
  }
 },
 "nbformat": 4,
 "nbformat_minor": 5
}
