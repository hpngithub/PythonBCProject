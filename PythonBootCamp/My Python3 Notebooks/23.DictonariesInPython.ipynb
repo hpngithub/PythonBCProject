{
 "cells": [
  {
   "cell_type": "markdown",
   "id": "53d45081-dae0-4f5d-95c0-e0f75b839122",
   "metadata": {},
   "source": [
    "### Construct Dictonary"
   ]
  },
  {
   "cell_type": "code",
   "execution_count": 1,
   "id": "51490249-2fed-4866-9057-39368ed12874",
   "metadata": {},
   "outputs": [],
   "source": [
    "# Create Object 'my_dic' and define multiple key with value.\n",
    "my_dic = {'key1':'value', 'key2':'value2'}"
   ]
  },
  {
   "cell_type": "code",
   "execution_count": 2,
   "id": "c0354f9c-8483-4fbf-9724-37a3cf6aeca9",
   "metadata": {},
   "outputs": [
    {
     "data": {
      "text/plain": [
       "{'key1': 'value', 'key2': 'value2'}"
      ]
     },
     "execution_count": 2,
     "metadata": {},
     "output_type": "execute_result"
    }
   ],
   "source": [
    "# Test 'my_dic'\n",
    "my_dic"
   ]
  },
  {
   "cell_type": "code",
   "execution_count": 3,
   "id": "37efe3f6-653c-486c-9576-a22b9dfc4988",
   "metadata": {},
   "outputs": [
    {
     "data": {
      "text/plain": [
       "'value'"
      ]
     },
     "execution_count": 3,
     "metadata": {},
     "output_type": "execute_result"
    }
   ],
   "source": [
    "# Grab the specific values from 'my_dic'.\n",
    "my_dic['key1']"
   ]
  },
  {
   "cell_type": "markdown",
   "id": "d0a7b587-0139-456b-8d93-a4a711476eb0",
   "metadata": {},
   "source": [
    "### Use Case of Dictonary"
   ]
  },
  {
   "cell_type": "markdown",
   "id": "5c395368-b1bd-4ccd-9e1e-411fce8f659f",
   "metadata": {},
   "source": [
    "*Note: Dictonary can hold keys, which are floating point numbers and strings, as it very flexible.*"
   ]
  },
  {
   "cell_type": "code",
   "execution_count": 8,
   "id": "20bac8e8-e3bb-49eb-9aa9-bd9db23255e7",
   "metadata": {},
   "outputs": [],
   "source": [
    "# Example of Price lookup - Part A\n",
    "# Note : Below created the dictionary\n",
    "prices_lookup = {'apple':2.99,'oranges':1.99,'milke':5.80}"
   ]
  },
  {
   "cell_type": "code",
   "execution_count": 9,
   "id": "de71a346-9602-41c4-95fb-bf6e3b302a45",
   "metadata": {},
   "outputs": [
    {
     "data": {
      "text/plain": [
       "2.99"
      ]
     },
     "execution_count": 9,
     "metadata": {},
     "output_type": "execute_result"
    }
   ],
   "source": [
    "# Example of Price lookup - Part B\n",
    "# Note : Below you will find out price of apple as example.\n",
    "prices_lookup['apple']"
   ]
  },
  {
   "cell_type": "markdown",
   "id": "96b5cc6c-fc7a-4b68-8a75-86987e8e18f0",
   "metadata": {},
   "source": [
    "### More on Use Case of Dictionary - Creating list"
   ]
  },
  {
   "cell_type": "markdown",
   "id": "978a91a8-3c0e-48f6-a1d3-e8af0fedd1f9",
   "metadata": {},
   "source": [
    "*Note: As per flexliblity, dictonary can hold key with value, key with value contaning list and key with insidekey with value.*"
   ]
  },
  {
   "cell_type": "code",
   "execution_count": 10,
   "id": "09339c06-dbf1-4b99-b8d1-7fd65694c3bd",
   "metadata": {},
   "outputs": [],
   "source": [
    "# Example 1\n",
    "# Note: Creating dictonary holding key with value, key with value contaning list and key with insidekey with value.\n",
    "d = {'k1':123,'k2':[0,1,2],'k3':{'insideKey':100}}"
   ]
  },
  {
   "cell_type": "code",
   "execution_count": 11,
   "id": "b9b5ded1-f070-40c1-81ff-1631b923f61e",
   "metadata": {},
   "outputs": [
    {
     "data": {
      "text/plain": [
       "[0, 1, 2]"
      ]
     },
     "execution_count": 11,
     "metadata": {},
     "output_type": "execute_result"
    }
   ],
   "source": [
    "# Example 1a - Retrieving 'k2' value\n",
    "d['k2']"
   ]
  },
  {
   "cell_type": "code",
   "execution_count": 12,
   "id": "154532b9-1aab-42f8-a106-a3fa4af1c43b",
   "metadata": {},
   "outputs": [
    {
     "data": {
      "text/plain": [
       "{'insideKey': 100}"
      ]
     },
     "execution_count": 12,
     "metadata": {},
     "output_type": "execute_result"
    }
   ],
   "source": [
    "# Example 1b : Part A - Retrieving value 100 - Understanding actual value.\n",
    "d['k3']"
   ]
  },
  {
   "cell_type": "code",
   "execution_count": 13,
   "id": "fbd793da-55ad-4a7d-921e-590a413fccff",
   "metadata": {},
   "outputs": [
    {
     "data": {
      "text/plain": [
       "100"
      ]
     },
     "execution_count": 13,
     "metadata": {},
     "output_type": "execute_result"
    }
   ],
   "source": [
    "# Example 1b : Part B - Retrieving value 100 - Combining 'insideKey' to get preciouse 100 number.\n",
    "# Note : you don't need to do the Example 1b : Part A, as it for undersanding.\n",
    "d['k3']['insideKey']"
   ]
  },
  {
   "cell_type": "code",
   "execution_count": 14,
   "id": "8778cc53-b440-4e90-b0e9-a0a2eba139cc",
   "metadata": {},
   "outputs": [
    {
     "data": {
      "text/plain": [
       "2"
      ]
     },
     "execution_count": 14,
     "metadata": {},
     "output_type": "execute_result"
    }
   ],
   "source": [
    "# Example 1c : Retreving value '2' from key 'k2'.\n",
    "d['k2'][2]"
   ]
  },
  {
   "cell_type": "code",
   "execution_count": 15,
   "id": "55125d0c-a5cb-473e-ae09-9db3db5988b8",
   "metadata": {},
   "outputs": [],
   "source": [
    "# Example 2 - Create dictonary.\n",
    "d = {'key1':['a','b','c']}"
   ]
  },
  {
   "cell_type": "code",
   "execution_count": 16,
   "id": "bba1abf7-e510-423f-a15c-2bc27f35fe72",
   "metadata": {},
   "outputs": [
    {
     "data": {
      "text/plain": [
       "{'key1': ['a', 'b', 'c']}"
      ]
     },
     "execution_count": 16,
     "metadata": {},
     "output_type": "execute_result"
    }
   ],
   "source": [
    "# Exmaple 2 - Test\n",
    "d"
   ]
  },
  {
   "cell_type": "code",
   "execution_count": null,
   "id": "19f256f9-4bf5-4ba1-8d7f-3ee57729ea94",
   "metadata": {},
   "outputs": [],
   "source": []
  }
 ],
 "metadata": {
  "kernelspec": {
   "display_name": "Python 3 (ipykernel)",
   "language": "python",
   "name": "python3"
  },
  "language_info": {
   "codemirror_mode": {
    "name": "ipython",
    "version": 3
   },
   "file_extension": ".py",
   "mimetype": "text/x-python",
   "name": "python",
   "nbconvert_exporter": "python",
   "pygments_lexer": "ipython3",
   "version": "3.11.7"
  }
 },
 "nbformat": 4,
 "nbformat_minor": 5
}
