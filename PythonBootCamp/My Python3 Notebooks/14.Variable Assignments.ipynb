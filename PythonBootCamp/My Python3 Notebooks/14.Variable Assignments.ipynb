{
 "cells": [
  {
   "cell_type": "code",
   "execution_count": 1,
   "id": "f86a74c0-3265-4895-97ae-69c78351e919",
   "metadata": {},
   "outputs": [],
   "source": [
    "# Assigned Names and Create Variables - Simple Verison"
   ]
  },
  {
   "cell_type": "code",
   "execution_count": 9,
   "id": "a09b18ea-251e-43c9-86de-69ea00baefdf",
   "metadata": {},
   "outputs": [],
   "source": [
    "# Create Variable, in this case variable 5 represent object letter a.\n",
    "a = 5"
   ]
  },
  {
   "cell_type": "code",
   "execution_count": 10,
   "id": "e83f8577-cd0b-4c59-bbfa-64db8cb438aa",
   "metadata": {},
   "outputs": [
    {
     "data": {
      "text/plain": [
       "5"
      ]
     },
     "execution_count": 10,
     "metadata": {},
     "output_type": "execute_result"
    }
   ],
   "source": [
    "# Test check variable by just typing a object and it should give result 5\n",
    "a"
   ]
  },
  {
   "cell_type": "code",
   "execution_count": 13,
   "id": "cfa3c489-3ba7-449b-a88a-d4e7eed2a76d",
   "metadata": {},
   "outputs": [],
   "source": [
    "# Reassign or change variable. Example: 5 to 10.\n",
    "a=10"
   ]
  },
  {
   "cell_type": "code",
   "execution_count": 14,
   "id": "b81b24ad-169f-4e68-b2a8-4dd63231813e",
   "metadata": {},
   "outputs": [
    {
     "data": {
      "text/plain": [
       "10"
      ]
     },
     "execution_count": 14,
     "metadata": {},
     "output_type": "execute_result"
    }
   ],
   "source": [
    "# Test check variable by just typing a and it should give result 10\n",
    "a"
   ]
  },
  {
   "cell_type": "code",
   "execution_count": 8,
   "id": "1fd08fd0-dd76-487b-af51-865b77b94048",
   "metadata": {},
   "outputs": [
    {
     "data": {
      "text/plain": [
       "20"
      ]
     },
     "execution_count": 8,
     "metadata": {},
     "output_type": "execute_result"
    }
   ],
   "source": [
    "# Next do math represent letter of variable. Example a is 10, as above, then a+a=20.\n",
    "a+a"
   ]
  },
  {
   "cell_type": "code",
   "execution_count": 16,
   "id": "e85c6fa2-b3a1-446c-b6c7-8831e5bb1032",
   "metadata": {},
   "outputs": [
    {
     "data": {
      "text/plain": [
       "10"
      ]
     },
     "execution_count": 16,
     "metadata": {},
     "output_type": "execute_result"
    }
   ],
   "source": [
    "# Python also allows you to do reassignments or change with same exsisting object.\n",
    "# Current Object Assigned : a = 10\n",
    "a"
   ]
  },
  {
   "cell_type": "code",
   "execution_count": 17,
   "id": "48a81178-f227-47d3-9948-1319ba1384ed",
   "metadata": {},
   "outputs": [],
   "source": [
    "# Reassigment from Object : Current a = 10, so 10 + 10 = 20. Therefore below math Reassing or change a = 10 to a = 20.\n",
    "a=a+a"
   ]
  },
  {
   "cell_type": "code",
   "execution_count": 18,
   "id": "ed17f41b-fe75-4aa8-b64f-67e7ac7e5601",
   "metadata": {},
   "outputs": [
    {
     "data": {
      "text/plain": [
       "20"
      ]
     },
     "execution_count": 18,
     "metadata": {},
     "output_type": "execute_result"
    }
   ],
   "source": [
    "# Check to if a = 20.\n",
    "a"
   ]
  },
  {
   "cell_type": "code",
   "execution_count": 19,
   "id": "be140bbe-e582-4869-b99f-a32426f331b7",
   "metadata": {},
   "outputs": [],
   "source": [
    "# Now if you run the Reassigment from Object : a=a+a again, it should double the variable or result number. \n",
    "# Also left cell number changes and you can do as again and again unlimited time.\n",
    "a=a+a"
   ]
  },
  {
   "cell_type": "code",
   "execution_count": 20,
   "id": "457739da-0fd8-49f1-b559-fca16dc35af2",
   "metadata": {},
   "outputs": [
    {
     "data": {
      "text/plain": [
       "40"
      ]
     },
     "execution_count": 20,
     "metadata": {},
     "output_type": "execute_result"
    }
   ],
   "source": [
    "# Check to if a = 40\n",
    "a"
   ]
  },
  {
   "cell_type": "code",
   "execution_count": 21,
   "id": "f4978f20-7c3e-476a-bc8b-1b5563f126de",
   "metadata": {},
   "outputs": [
    {
     "data": {
      "text/plain": [
       "int"
      ]
     },
     "execution_count": 21,
     "metadata": {},
     "output_type": "execute_result"
    }
   ],
   "source": [
    "# To find what is variable type from object, use the \"TYPE ()\" without quote and add object in parentheses syntax. \n",
    "# Example : a = 40 and 40 is integer (int), which is whole number without decimal.\n",
    "type(a)"
   ]
  },
  {
   "cell_type": "code",
   "execution_count": 24,
   "id": "af161ee5-87de-4e5a-9cc6-9abdb794424c",
   "metadata": {},
   "outputs": [],
   "source": [
    "# Now let Reassign or Change a to floating point number. Note : Floating point number is repeating decimal not whole number.\n",
    "a = 30.1"
   ]
  },
  {
   "cell_type": "code",
   "execution_count": 27,
   "id": "f2aaa115-3187-4034-be98-93b42d4433ae",
   "metadata": {},
   "outputs": [
    {
     "data": {
      "text/plain": [
       "30.1"
      ]
     },
     "execution_count": 27,
     "metadata": {},
     "output_type": "execute_result"
    }
   ],
   "source": [
    "# check if floating point number assign.\n",
    "a"
   ]
  },
  {
   "cell_type": "code",
   "execution_count": 29,
   "id": "cc05a6f0-3320-4656-adef-a19fd8111f88",
   "metadata": {},
   "outputs": [
    {
     "data": {
      "text/plain": [
       "float"
      ]
     },
     "execution_count": 29,
     "metadata": {},
     "output_type": "execute_result"
    }
   ],
   "source": [
    "# Check again variable type from object, use the \"TYPE ()\" without quote and add object in parentheses syntax. \n",
    "type(a)"
   ]
  },
  {
   "cell_type": "code",
   "execution_count": 31,
   "id": "14e410f1-e7e5-4499-9c71-4afe599f9f2e",
   "metadata": {},
   "outputs": [],
   "source": [
    "# Note if you type the \"int = 4\" without quote, it should highlight as build in key word in python. !!DO NOT RUN!!\n",
    "# If run the \"int = 4\" without quote, go on jupyter software menu -> Kernerl -> Restart Kernel... \n",
    "# So restarting the kernel will delete all variables and you need to run the cell again to set variable."
   ]
  },
  {
   "cell_type": "code",
   "execution_count": null,
   "id": "cd1fee13-ed89-426e-879b-45e7a1fb35e4",
   "metadata": {},
   "outputs": [],
   "source": [
    "# Last thing perform logic with variable name. So see below exx"
   ]
  }
 ],
 "metadata": {
  "kernelspec": {
   "display_name": "Python 3 (ipykernel)",
   "language": "python",
   "name": "python3"
  },
  "language_info": {
   "codemirror_mode": {
    "name": "ipython",
    "version": 3
   },
   "file_extension": ".py",
   "mimetype": "text/x-python",
   "name": "python",
   "nbconvert_exporter": "python",
   "pygments_lexer": "ipython3",
   "version": "3.11.7"
  }
 },
 "nbformat": 4,
 "nbformat_minor": 5
}
