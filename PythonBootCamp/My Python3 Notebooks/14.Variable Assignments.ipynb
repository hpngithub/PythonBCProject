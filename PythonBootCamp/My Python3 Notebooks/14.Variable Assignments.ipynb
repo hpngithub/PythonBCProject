{
 "cells": [
  {
   "cell_type": "code",
   "execution_count": 1,
   "id": "f86a74c0-3265-4895-97ae-69c78351e919",
   "metadata": {},
   "outputs": [],
   "source": [
    "# Assigned Names and Create Variables - Simple Verison"
   ]
  },
  {
   "cell_type": "code",
   "execution_count": 2,
   "id": "a09b18ea-251e-43c9-86de-69ea00baefdf",
   "metadata": {},
   "outputs": [],
   "source": [
    "# Create Variable\n",
    "a = 5"
   ]
  },
  {
   "cell_type": "code",
   "execution_count": 4,
   "id": "e83f8577-cd0b-4c59-bbfa-64db8cb438aa",
   "metadata": {},
   "outputs": [
    {
     "data": {
      "text/plain": [
       "5"
      ]
     },
     "execution_count": 4,
     "metadata": {},
     "output_type": "execute_result"
    }
   ],
   "source": [
    "# Test check variable by just typing a and it should give result 5\n",
    "a"
   ]
  },
  {
   "cell_type": "code",
   "execution_count": null,
   "id": "cfa3c489-3ba7-449b-a88a-d4e7eed2a76d",
   "metadata": {},
   "outputs": [],
   "source": [
    "# "
   ]
  }
 ],
 "metadata": {
  "kernelspec": {
   "display_name": "Python 3 (ipykernel)",
   "language": "python",
   "name": "python3"
  },
  "language_info": {
   "codemirror_mode": {
    "name": "ipython",
    "version": 3
   },
   "file_extension": ".py",
   "mimetype": "text/x-python",
   "name": "python",
   "nbconvert_exporter": "python",
   "pygments_lexer": "ipython3",
   "version": "3.11.7"
  }
 },
 "nbformat": 4,
 "nbformat_minor": 5
}
