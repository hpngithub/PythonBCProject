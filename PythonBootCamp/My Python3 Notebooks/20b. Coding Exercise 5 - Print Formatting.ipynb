{
 "cells": [
  {
   "cell_type": "markdown",
   "id": "b03d20ae-dfeb-40aa-afac-7a3345c8508f",
   "metadata": {},
   "source": [
    "### Print Formatting\n",
    "\n",
    "Write an expression using any of the string formatting methods we have learned (except f-strings, see note below) to return the phrase' 'Python rules!''\n",
    "\n",
    "For example, these phrases both return ''I like apples'' :\n",
    "\n",
    "    1 | 'I like %s' %'apples'\n",
    "    2 | 'I like {}'.format('apples')\n",
    "\n",
    "Your solution should be entered on one line. You can not use variable names, only the strings themselves.\n",
    "\n",
    "**NOTE: At this time, f-strings won't work!** \n",
    "Udemy Coding Exercises use Python 3.5.2, and f-strings require Python 3.6 or higher."
   ]
  },
  {
   "cell_type": "code",
   "execution_count": null,
   "id": "2528a027-35e6-4c5e-a185-42e1488a5047",
   "metadata": {},
   "outputs": [],
   "source": []
  }
 ],
 "metadata": {
  "kernelspec": {
   "display_name": "Python 3 (ipykernel)",
   "language": "python",
   "name": "python3"
  },
  "language_info": {
   "codemirror_mode": {
    "name": "ipython",
    "version": 3
   },
   "file_extension": ".py",
   "mimetype": "text/x-python",
   "name": "python",
   "nbconvert_exporter": "python",
   "pygments_lexer": "ipython3",
   "version": "3.11.7"
  }
 },
 "nbformat": 4,
 "nbformat_minor": 5
}
