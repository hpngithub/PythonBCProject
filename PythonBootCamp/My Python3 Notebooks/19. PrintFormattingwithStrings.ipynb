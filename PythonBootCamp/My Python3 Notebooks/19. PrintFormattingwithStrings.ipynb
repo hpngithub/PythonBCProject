{
 "cells": [
  {
   "cell_type": "markdown",
   "id": "61cba81e-68a9-4062-a911-be5d99434c04",
   "metadata": {},
   "source": [
    "## Formatting with .format() method\n",
    "A good way to format objects into your strings for print statements is with the string .format\n",
    "method. The syntaxt is:\n",
    "\n",
    "**'String here {} then also {}'.format('something1','something2')**"
   ]
  },
  {
   "cell_type": "code",
   "execution_count": 2,
   "id": "066ff966-aa3f-4d3f-b81b-31e230a862d2",
   "metadata": {},
   "outputs": [
    {
     "name": "stdout",
     "output_type": "stream",
     "text": [
      "This is a string INSERTED\n"
     ]
    }
   ],
   "source": [
    "# Example 1\n",
    "# Note : {} is string and .format is item that goes in strings\n",
    "print('This is a string {}'.format('INSERTED'))"
   ]
  },
  {
   "cell_type": "markdown",
   "id": "34bd142f-c9ff-4de7-ba81-0337767e42d3",
   "metadata": {},
   "source": [
    "### Serveral Advantage of using .format and {} Strings."
   ]
  },
  {
   "cell_type": "code",
   "execution_count": 3,
   "id": "a6b898c2-e727-44b2-8555-806dd64bcf39",
   "metadata": {},
   "outputs": [
    {
     "name": "stdout",
     "output_type": "stream",
     "text": [
      "The fox brown quick\n"
     ]
    }
   ],
   "source": [
    "# Example 2 : Inserting many things in Strings.\n",
    "# Part 1 : Insert in order in Strings.\n",
    "print('The {} {} {}'.format('fox','brown','quick'))"
   ]
  },
  {
   "cell_type": "code",
   "execution_count": 4,
   "id": "6ce82c42-fcaf-4d88-9236-ef0399384024",
   "metadata": {},
   "outputs": [
    {
     "name": "stdout",
     "output_type": "stream",
     "text": [
      "The quick brown fox\n"
     ]
    }
   ],
   "source": [
    "# Part 2 : Insert as to make grammatical sense.\n",
    "# Note : fox is 0, Brown is 1 and quick is 2.\n",
    "print('The {2} {1} {0}'.format('fox','brown','quick'))"
   ]
  },
  {
   "cell_type": "code",
   "execution_count": 5,
   "id": "b73e1608-9fad-4841-82c1-35f0ce882488",
   "metadata": {},
   "outputs": [
    {
     "name": "stdout",
     "output_type": "stream",
     "text": [
      "The fox fox fox\n"
     ]
    }
   ],
   "source": [
    "# Part 3 : Insert as repeated word.\n",
    "# Note : fox is 0, Brown is 1 and quick is 2.\n",
    "print('The {0} {0} {0}'.format('fox','brown','quick'))"
   ]
  },
  {
   "cell_type": "code",
   "execution_count": 6,
   "id": "8551f5b3-61ee-4252-acee-fb7e0877dd88",
   "metadata": {},
   "outputs": [
    {
     "name": "stdout",
     "output_type": "stream",
     "text": [
      "The quick brown fox\n"
     ]
    }
   ],
   "source": [
    "# Part 4 : Insert with variable.\n",
    "# Note : f=fox, b=Brown and q=quick.\n",
    "print('The {q} {b} {f}'.format(f='fox',b='brown',q='quick'))"
   ]
  },
  {
   "cell_type": "code",
   "execution_count": 7,
   "id": "b7a835b5-98fa-4674-91a0-e3d22476d12b",
   "metadata": {},
   "outputs": [
    {
     "name": "stdout",
     "output_type": "stream",
     "text": [
      "The fox fox fox\n"
     ]
    }
   ],
   "source": [
    "# Part 5 : Insert as repeated word using variable.\n",
    "# Note : f=fox, b=Brown and q=quick.\n",
    "print('The {f} {f} {f}'.format(f='fox',b='brown',q='quick'))"
   ]
  },
  {
   "cell_type": "markdown",
   "id": "d4820215-833f-4350-be4d-a8cdb8548ec4",
   "metadata": {},
   "source": [
    "### Float formatting follows '{value:width.precision f}\"\n",
    "*Note : It is basically allows you to adjust the width and precision of your floating point (Decimal number) number. Another word modify decimal number.*"
   ]
  },
  {
   "cell_type": "code",
   "execution_count": 8,
   "id": "3a671b89-ee3b-4ed5-a4de-0fc1501d6203",
   "metadata": {},
   "outputs": [],
   "source": [
    "# Part 1a : Create strings\n",
    "result = 100/777"
   ]
  },
  {
   "cell_type": "code",
   "execution_count": 9,
   "id": "48a8b7ab-33d5-4922-8e78-2151b1687a7f",
   "metadata": {},
   "outputs": [
    {
     "data": {
      "text/plain": [
       "0.1287001287001287"
      ]
     },
     "execution_count": 9,
     "metadata": {},
     "output_type": "execute_result"
    }
   ],
   "source": [
    "# Part 1b : Check\n",
    "result"
   ]
  },
  {
   "cell_type": "code",
   "execution_count": 10,
   "id": "2f5a0b63-849d-41ac-bc45-2ed19b45d4f9",
   "metadata": {},
   "outputs": [
    {
     "name": "stdout",
     "output_type": "stream",
     "text": [
      "The result was 0.1287001287001287\n"
     ]
    }
   ],
   "source": [
    "# Part 2 : Print decimal using .format.\n",
    "# Note : result is 0.1287001287001287\n",
    "print(\"The result was {}\".format(result))"
   ]
  },
  {
   "cell_type": "code",
   "execution_count": 11,
   "id": "894fa8a1-6055-48b0-a71a-b224daa20f58",
   "metadata": {},
   "outputs": [
    {
     "name": "stdout",
     "output_type": "stream",
     "text": [
      "The result was 0.1287001287001287\n"
     ]
    }
   ],
   "source": [
    "# Part 3 : Print decimal using .format with including variable.\n",
    "# Note : result is 0.1287001287001287\n",
    "print(\"The result was {r}\".format(r=result))"
   ]
  },
  {
   "cell_type": "code",
   "execution_count": 13,
   "id": "c574c439-ac59-4c6e-b82f-08780eb1f0c9",
   "metadata": {},
   "outputs": [
    {
     "name": "stdout",
     "output_type": "stream",
     "text": [
      "The result was 0.129\n"
     ]
    }
   ],
   "source": [
    "# Part 4 : Print using following syntax \"{value:width.precision f}\".\n",
    "# Note : value is variable, ':' colon is left right count, width is empty space before decimial and precision is decimal value with '.'+'f'.\n",
    "print(\"The result was {r:1.3f}\".format(r=result))"
   ]
  },
  {
   "cell_type": "code",
   "execution_count": 14,
   "id": "dc67cb80-1969-4d08-8cfd-650f31b8f79b",
   "metadata": {},
   "outputs": [
    {
     "name": "stdout",
     "output_type": "stream",
     "text": [
      "The result was      0.129\n"
     ]
    }
   ],
   "source": [
    "# Part 5a : Print using following syntax \"{value:width.precision f}\" and adding space.\n",
    "# Note : value is variable, ':' colon is left right count, width is empty space before decimial, so using #10 and precision is decimal value with '.'+'f'.\n",
    "print(\"The result was {r:10.3f}\".format(r=result))"
   ]
  },
  {
   "cell_type": "code",
   "execution_count": 15,
   "id": "f6bb4f5b-9db8-4243-905a-7a7bb27142e6",
   "metadata": {},
   "outputs": [],
   "source": [
    "# Part 5b : Change result.\n",
    "result = 104.12345"
   ]
  },
  {
   "cell_type": "code",
   "execution_count": 16,
   "id": "427f2ba0-5aed-48c0-a714-4b7c5bc75b8b",
   "metadata": {},
   "outputs": [
    {
     "name": "stdout",
     "output_type": "stream",
     "text": [
      "The result was 104.12\n"
     ]
    }
   ],
   "source": [
    "# Part 5c : Print using following syntax \"{value:width.precision f}\".\n",
    "# Note : value is variable, ':' colon is left right count, width is empty space before decimial, and precision is decimal value with '.'+'f'.\n",
    "print(\"The result was {r:1.2f}\".format(r=result))"
   ]
  },
  {
   "cell_type": "code",
   "execution_count": null,
   "id": "ff056912-1df7-47ac-95eb-f7818e4e9090",
   "metadata": {},
   "outputs": [],
   "source": [
    "### F strings or Formatted s"
   ]
  }
 ],
 "metadata": {
  "kernelspec": {
   "display_name": "Python 3 (ipykernel)",
   "language": "python",
   "name": "python3"
  },
  "language_info": {
   "codemirror_mode": {
    "name": "ipython",
    "version": 3
   },
   "file_extension": ".py",
   "mimetype": "text/x-python",
   "name": "python",
   "nbconvert_exporter": "python",
   "pygments_lexer": "ipython3",
   "version": "3.11.7"
  }
 },
 "nbformat": 4,
 "nbformat_minor": 5
}
