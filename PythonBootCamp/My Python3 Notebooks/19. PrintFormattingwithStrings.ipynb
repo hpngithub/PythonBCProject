{
 "cells": [
  {
   "cell_type": "markdown",
   "id": "61cba81e-68a9-4062-a911-be5d99434c04",
   "metadata": {},
   "source": [
    "| ## Formatiing with .format() method\n",
    "| A good way to fromat objects into your strings for print statements is with the string .format()\n",
    "| method. The syntaxt is:\n",
    "|\n",
    "\n",
    "\n"
   ]
  },
  {
   "cell_type": "code",
   "execution_count": null,
   "id": "98a93326-6592-449a-bab2-a131bbb63db5",
   "metadata": {},
   "outputs": [],
   "source": []
  }
 ],
 "metadata": {
  "kernelspec": {
   "display_name": "Python 3 (ipykernel)",
   "language": "python",
   "name": "python3"
  },
  "language_info": {
   "codemirror_mode": {
    "name": "ipython",
    "version": 3
   },
   "file_extension": ".py",
   "mimetype": "text/x-python",
   "name": "python",
   "nbconvert_exporter": "python",
   "pygments_lexer": "ipython3",
   "version": "3.11.7"
  }
 },
 "nbformat": 4,
 "nbformat_minor": 5
}
