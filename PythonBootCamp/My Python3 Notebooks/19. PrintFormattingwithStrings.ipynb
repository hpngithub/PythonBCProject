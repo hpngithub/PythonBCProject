{
 "cells": [
  {
   "cell_type": "markdown",
   "id": "61cba81e-68a9-4062-a911-be5d99434c04",
   "metadata": {},
   "source": [
    "## Formatting with .format() method\n",
    "A good way to fromat objects into your strings for print statements is with the string .format()\n",
    "method. The syntaxt is:\n",
    "\n",
    "**'String here {} then also {}'.format('something1','something2')**"
   ]
  },
  {
   "cell_type": "code",
   "execution_count": 2,
   "id": "066ff966-aa3f-4d3f-b81b-31e230a862d2",
   "metadata": {},
   "outputs": [
    {
     "name": "stdout",
     "output_type": "stream",
     "text": [
      "This is a string INSERTED\n"
     ]
    }
   ],
   "source": [
    "print('This is a string {}'.format('INSERTED'))"
   ]
  },
  {
   "cell_type": "code",
   "execution_count": null,
   "id": "6d9db96b-475f-43a7-9068-b53d18650aa7",
   "metadata": {},
   "outputs": [],
   "source": []
  }
 ],
 "metadata": {
  "kernelspec": {
   "display_name": "Python 3 (ipykernel)",
   "language": "python",
   "name": "python3"
  },
  "language_info": {
   "codemirror_mode": {
    "name": "ipython",
    "version": 3
   },
   "file_extension": ".py",
   "mimetype": "text/x-python",
   "name": "python",
   "nbconvert_exporter": "python",
   "pygments_lexer": "ipython3",
   "version": "3.11.7"
  }
 },
 "nbformat": 4,
 "nbformat_minor": 5
}
