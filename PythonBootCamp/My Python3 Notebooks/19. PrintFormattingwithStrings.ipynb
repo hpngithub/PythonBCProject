{
 "cells": [
  {
   "cell_type": "markdown",
   "id": "61cba81e-68a9-4062-a911-be5d99434c04",
   "metadata": {},
   "source": [
    "## Formatting with .format() method\n",
    "A good way to format objects into your strings for print statements is with the string .format\n",
    "method. The syntaxt is:\n",
    "\n",
    "**'String here {} then also {}'.format('something1','something2')**"
   ]
  },
  {
   "cell_type": "code",
   "execution_count": 2,
   "id": "066ff966-aa3f-4d3f-b81b-31e230a862d2",
   "metadata": {},
   "outputs": [
    {
     "name": "stdout",
     "output_type": "stream",
     "text": [
      "This is a string INSERTED\n"
     ]
    }
   ],
   "source": [
    "# Example 1\n",
    "# Note : {} is string and .format is item that goes in strings\n",
    "print('This is a string {}'.format('INSERTED'))"
   ]
  },
  {
   "cell_type": "markdown",
   "id": "34bd142f-c9ff-4de7-ba81-0337767e42d3",
   "metadata": {},
   "source": [
    "### Serveral Advantage of using .format and {} Strings."
   ]
  },
  {
   "cell_type": "code",
   "execution_count": 3,
   "id": "a6b898c2-e727-44b2-8555-806dd64bcf39",
   "metadata": {},
   "outputs": [
    {
     "name": "stdout",
     "output_type": "stream",
     "text": [
      "The fox brown quick\n"
     ]
    }
   ],
   "source": [
    "# Example 2 : Inserting many things in Strings.\n",
    "# Part 1 : Insert in order in Strings.\n",
    "print('The {} {} {}'.format('fox','brown','quick'))"
   ]
  },
  {
   "cell_type": "code",
   "execution_count": null,
   "id": "6ce82c42-fcaf-4d88-9236-ef0399384024",
   "metadata": {},
   "outputs": [],
   "source": [
    "# Part 2 : Insert as to make grammatical sense.\n",
    "# Note : fox \n",
    "print('The {} {} {}'.format('fox','brown','quick'))"
   ]
  }
 ],
 "metadata": {
  "kernelspec": {
   "display_name": "Python 3 (ipykernel)",
   "language": "python",
   "name": "python3"
  },
  "language_info": {
   "codemirror_mode": {
    "name": "ipython",
    "version": 3
   },
   "file_extension": ".py",
   "mimetype": "text/x-python",
   "name": "python",
   "nbconvert_exporter": "python",
   "pygments_lexer": "ipython3",
   "version": "3.11.7"
  }
 },
 "nbformat": 4,
 "nbformat_minor": 5
}
