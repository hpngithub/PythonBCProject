{
 "cells": [
  {
   "cell_type": "markdown",
   "id": "a2dee908-fc5a-4044-a19e-5bd47c60f1df",
   "metadata": {},
   "source": [
    "# File I/O\n",
    "\n",
    "This exercise will require several lines of code.\n",
    "\n",
    "Write a script that opens a file named `'test.txt'` , writes `'Hello World'`  to the file, then closes it.\n",
    "\n",
    "For example, the following code opens a file called `'myfile.txt'` , writes `'This is my file'` , and closes it:\n",
    "\n",
    "    x = open('myfile.txt', 'w')\n",
    "    x.write('This is my file')\n",
    "    x.close()\n"
   ]
  },
  {
   "cell_type": "code",
   "execution_count": 1,
   "id": "d42a8707-0159-4f5a-86c4-723086fe33b9",
   "metadata": {},
   "outputs": [],
   "source": [
    "x = open('test.txt', 'w')\n",
    "x.write('Hello World')\n",
    "x.close()"
   ]
  }
 ],
 "metadata": {
  "kernelspec": {
   "display_name": "Python 3 (ipykernel)",
   "language": "python",
   "name": "python3"
  },
  "language_info": {
   "codemirror_mode": {
    "name": "ipython",
    "version": 3
   },
   "file_extension": ".py",
   "mimetype": "text/x-python",
   "name": "python",
   "nbconvert_exporter": "python",
   "pygments_lexer": "ipython3",
   "version": "3.11.7"
  }
 },
 "nbformat": 4,
 "nbformat_minor": 5
}
