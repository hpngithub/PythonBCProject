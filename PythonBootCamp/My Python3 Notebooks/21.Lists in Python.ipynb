{
 "cells": [
  {
   "cell_type": "markdown",
   "id": "da5ac4bb-54ce-4e75-9656-746e570fcf45",
   "metadata": {},
   "source": [
    "### Create Lists"
   ]
  },
  {
   "cell_type": "code",
   "execution_count": 1,
   "id": "6f56f9b1-53c4-4106-88b5-2445b7256f69",
   "metadata": {},
   "outputs": [],
   "source": [
    "# Create lists 1 - Sequance \n",
    "my_list = [1,2,3]"
   ]
  },
  {
   "cell_type": "code",
   "execution_count": 2,
   "id": "922028f4-3133-4166-8fd7-2fd29cc167a7",
   "metadata": {},
   "outputs": [
    {
     "data": {
      "text/plain": [
       "[1, 2, 3]"
      ]
     },
     "execution_count": 2,
     "metadata": {},
     "output_type": "execute_result"
    }
   ],
   "source": [
    "# Check lists\n",
    "my_list"
   ]
  },
  {
   "cell_type": "code",
   "execution_count": 3,
   "id": "b932796c-4cc2-4d97-b72e-98ba7a5052b9",
   "metadata": {},
   "outputs": [],
   "source": [
    "# Create Lists 2 - Mixed\n",
    "my_list = ['STRING',100,23.2]"
   ]
  },
  {
   "cell_type": "code",
   "execution_count": 4,
   "id": "7da941b4-2e55-4029-aa94-66a50519c172",
   "metadata": {},
   "outputs": [
    {
     "data": {
      "text/plain": [
       "['STRING', 100, 23.2]"
      ]
     },
     "execution_count": 4,
     "metadata": {},
     "output_type": "execute_result"
    }
   ],
   "source": [
    "my_list"
   ]
  },
  {
   "cell_type": "markdown",
   "id": "e90d31ba-d695-4cbd-9c29-a92031b1ebb0",
   "metadata": {},
   "source": [
    "### Check the Length of List."
   ]
  },
  {
   "cell_type": "code",
   "execution_count": 5,
   "id": "4ed7467f-9306-4485-8f03-0674dacce837",
   "metadata": {},
   "outputs": [
    {
     "data": {
      "text/plain": [
       "3"
      ]
     },
     "execution_count": 5,
     "metadata": {},
     "output_type": "execute_result"
    }
   ],
   "source": [
    "# Check the length using len function.\n",
    "# Note : Length mean finding out number elements or items in list.\n",
    "len(my_list)"
   ]
  },
  {
   "cell_type": "markdown",
   "id": "2baf8fc0-7a6f-4522-ac9a-40750a89a245",
   "metadata": {},
   "source": [
    "### Indexing and Slicing in List"
   ]
  },
  {
   "cell_type": "code",
   "execution_count": 6,
   "id": "94e7f52f-9cc2-4277-8a74-94465c9e2c44",
   "metadata": {},
   "outputs": [],
   "source": [
    "#Create the list\n",
    "mylist = ['one','two','three']"
   ]
  },
  {
   "cell_type": "code",
   "execution_count": 7,
   "id": "e674ccf9-b551-487d-965c-e639902c9623",
   "metadata": {},
   "outputs": [
    {
     "data": {
      "text/plain": [
       "['one', 'two', 'three']"
      ]
     },
     "execution_count": 7,
     "metadata": {},
     "output_type": "execute_result"
    }
   ],
   "source": [
    "#Check the list\n",
    "mylist"
   ]
  },
  {
   "cell_type": "code",
   "execution_count": 8,
   "id": "c25c1ba1-ba0c-40a1-a52e-1928f7c40cdf",
   "metadata": {},
   "outputs": [
    {
     "data": {
      "text/plain": [
       "'one'"
      ]
     },
     "execution_count": 8,
     "metadata": {},
     "output_type": "execute_result"
    }
   ],
   "source": [
    "#Grab the elements : Example - 'one'  [INDEXING]\n",
    "mylist[0]"
   ]
  },
  {
   "cell_type": "code",
   "execution_count": 9,
   "id": "fc5fc63a-6884-455e-a048-ed7bf9dc9d4a",
   "metadata": {},
   "outputs": [
    {
     "data": {
      "text/plain": [
       "['two', 'three']"
      ]
     },
     "execution_count": 9,
     "metadata": {},
     "output_type": "execute_result"
    }
   ],
   "source": [
    "#Grab all Elements from middle (index 1) to last only.  [SLICING]\n",
    "mylist[1:]"
   ]
  },
  {
   "cell_type": "markdown",
   "id": "1f0b41d5-d342-42a3-9446-425952e1b9cc",
   "metadata": {},
   "source": [
    "### Concatenate List"
   ]
  },
  {
   "cell_type": "code",
   "execution_count": 10,
   "id": "9e087678-bfbb-40d6-9bf9-ba86f40544ed",
   "metadata": {},
   "outputs": [
    {
     "data": {
      "text/plain": [
       "['one', 'two', 'three']"
      ]
     },
     "execution_count": 10,
     "metadata": {},
     "output_type": "execute_result"
    }
   ],
   "source": [
    "# My list\n",
    "mylist"
   ]
  },
  {
   "cell_type": "code",
   "execution_count": 11,
   "id": "3c940aa4-f003-489a-b055-5eb9b5b63828",
   "metadata": {},
   "outputs": [],
   "source": [
    "# Create Another list\n",
    "another_list = ['four','five']"
   ]
  },
  {
   "cell_type": "code",
   "execution_count": 12,
   "id": "b0e361b2-f5a1-430c-b4d6-42f9214c999b",
   "metadata": {},
   "outputs": [
    {
     "data": {
      "text/plain": [
       "['four', 'five']"
      ]
     },
     "execution_count": 12,
     "metadata": {},
     "output_type": "execute_result"
    }
   ],
   "source": [
    "# Check Another list\n",
    "another_list"
   ]
  },
  {
   "cell_type": "code",
   "execution_count": 13,
   "id": "5b8b902c-e487-4b18-a1d1-4e2150ad12d0",
   "metadata": {},
   "outputs": [
    {
     "data": {
      "text/plain": [
       "['one', 'two', 'three', 'four', 'five']"
      ]
     },
     "execution_count": 13,
     "metadata": {},
     "output_type": "execute_result"
    }
   ],
   "source": [
    "# Concatenate both list\n",
    "mylist + another_list"
   ]
  },
  {
   "cell_type": "code",
   "execution_count": 14,
   "id": "478e9b13-ed08-4d78-8de2-4fbb795b2c95",
   "metadata": {},
   "outputs": [],
   "source": [
    "# Saving Concatenate both list\n",
    "newlist = mylist + another_list"
   ]
  },
  {
   "cell_type": "code",
   "execution_count": 15,
   "id": "711ee8e8-e48e-4c72-8a66-4f63eb568d82",
   "metadata": {},
   "outputs": [
    {
     "data": {
      "text/plain": [
       "['one', 'two', 'three', 'four', 'five']"
      ]
     },
     "execution_count": 15,
     "metadata": {},
     "output_type": "execute_result"
    }
   ],
   "source": [
    "# Checking Concatenate both list name newlist\n",
    "newlist"
   ]
  },
  {
   "cell_type": "markdown",
   "id": "62d05a4f-0855-4f31-a53a-c6ae9fd1c2ad",
   "metadata": {},
   "source": [
    "### Mutate or Change Elements in List"
   ]
  },
  {
   "cell_type": "code",
   "execution_count": 16,
   "id": "ef4215f7-9c90-4e52-b816-0540169e827e",
   "metadata": {},
   "outputs": [
    {
     "data": {
      "text/plain": [
       "['one', 'two', 'three', 'four', 'five']"
      ]
     },
     "execution_count": 16,
     "metadata": {},
     "output_type": "execute_result"
    }
   ],
   "source": [
    "# My new list\n",
    "newlist"
   ]
  },
  {
   "cell_type": "code",
   "execution_count": 18,
   "id": "e06becbe-fa84-48ed-ab19-dbbadc9b81eb",
   "metadata": {},
   "outputs": [],
   "source": [
    "# Mutate Element : Example - 'one'\n",
    "newlist[0] = 'ONE ALL CAPS'"
   ]
  },
  {
   "cell_type": "code",
   "execution_count": 19,
   "id": "13fc0fb5-b3ad-4b97-8e8f-f2bdd6329c62",
   "metadata": {},
   "outputs": [
    {
     "data": {
      "text/plain": [
       "['ONE ALL CAPS', 'two', 'three', 'four', 'five']"
      ]
     },
     "execution_count": 19,
     "metadata": {},
     "output_type": "execute_result"
    }
   ],
   "source": [
    "# Check my mutate new list\n",
    "newlist"
   ]
  },
  {
   "cell_type": "markdown",
   "id": "3bfba13e-d19b-44bd-8b16-5584bee2aa8e",
   "metadata": {},
   "source": [
    "### Add elements inside list"
   ]
  },
  {
   "cell_type": "code",
   "execution_count": null,
   "id": "a96ff12d-5ad6-4d06-9e28-dd1e6aabafca",
   "metadata": {},
   "outputs": [],
   "source": []
  }
 ],
 "metadata": {
  "kernelspec": {
   "display_name": "Python 3 (ipykernel)",
   "language": "python",
   "name": "python3"
  },
  "language_info": {
   "codemirror_mode": {
    "name": "ipython",
    "version": 3
   },
   "file_extension": ".py",
   "mimetype": "text/x-python",
   "name": "python",
   "nbconvert_exporter": "python",
   "pygments_lexer": "ipython3",
   "version": "3.11.7"
  }
 },
 "nbformat": 4,
 "nbformat_minor": 5
}
