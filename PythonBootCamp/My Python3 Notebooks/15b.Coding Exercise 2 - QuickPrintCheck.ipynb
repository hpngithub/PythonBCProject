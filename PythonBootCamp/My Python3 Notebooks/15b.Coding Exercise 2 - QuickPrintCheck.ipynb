{
 "cells": [
  {
   "cell_type": "markdown",
   "id": "115c3e15-4615-41c0-bade-d8e93c5217a5",
   "metadata": {},
   "source": [
    "# Quick Print Check\n",
    "\n",
    "Hi,\n",
    "Later on we will have more in depth tests that will involve you downloading a .ipynb notebook file and answering the questions in it. For now, let's have a quick check in to make sure everything is working so far. This should be a very simple problem for you.\n",
    "\n",
    "**Your Task:**\n",
    "**Use what you know about the print() function to print out the phrase \"Hello World\" . Make sure your capitalization and spacing match.**"
   ]
  },
  {
   "cell_type": "code",
   "execution_count": 2,
   "id": "daf0607d-c210-4266-aef4-ad3d3df29ffd",
   "metadata": {},
   "outputs": [
    {
     "name": "stdout",
     "output_type": "stream",
     "text": [
      "Hello World\n"
     ]
    }
   ],
   "source": [
    "# Lines that start with hashtags are comments\n",
    "# Write your code below that prints out \"Hello World\"\n",
    "# Make sure your spacing and capitalization matches.\n",
    "\n",
    "print (\"Hello World\")"
   ]
  }
 ],
 "metadata": {
  "kernelspec": {
   "display_name": "Python 3 (ipykernel)",
   "language": "python",
   "name": "python3"
  },
  "language_info": {
   "codemirror_mode": {
    "name": "ipython",
    "version": 3
   },
   "file_extension": ".py",
   "mimetype": "text/x-python",
   "name": "python",
   "nbconvert_exporter": "python",
   "pygments_lexer": "ipython3",
   "version": "3.11.7"
  }
 },
 "nbformat": 4,
 "nbformat_minor": 5
}
